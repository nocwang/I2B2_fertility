{
 "cells": [
  {
   "cell_type": "markdown",
   "metadata": {},
   "source": [
    "# SQL to get I2B2 data between 2001 and 2014"
   ]
  },
  {
   "cell_type": "markdown",
   "metadata": {},
   "source": [
    "## How to use SQL to get female fertility data between 2001 and 2014, e.g., hormone, Family Planning, fertility"
   ]
  },
  {
   "cell_type": "code",
   "execution_count": null,
   "metadata": {
    "collapsed": true
   },
   "outputs": [],
   "source": [
    "# select obs.PATIENT_NUM, obs.CONCEPT_CD,obs.START_DATE, obs.VALTYPE_CD, obs.TVAL_CHAR, obs.NVAL_NUM, con.CONCEPT_PATH, con.NAME_CHAR, pat.SEX_CD, pat.LANGUAGE_CD,pat.RACE_CD,pat.ZIP_CD\n",
    "# --obs.PATIENT_NUM, con.Concept_cd\n",
    "# from NSF_Algorithms.dbo.observation_fact obs, NSF_Algorithms.dbo.concept_dimension con, NSF_Algorithms.dbo.patient_dimension pat\n",
    "\n",
    "# where\tobs.CONCEPT_CD=con.CONCEPT_CD\n",
    "# \tAND\n",
    "# \t\tobs.PATIENT_NUM=pat.PATIENT_NUM\n",
    "# \tAND\n",
    "# \t\t(\n",
    "# \t\t--con.CONCEPT_PATH like '%Testosterone%' \n",
    "# \t\t--OR\n",
    "# \t\t----con.CONCEPT_PATH like '%Anti-Müllerian hormone%' \n",
    "# \t\t----OR\n",
    "# \t\tcon.CONCEPT_PATH like '%Luteinizing hormone%' \n",
    "# \t\tOR\n",
    "# \t\tcon.CONCEPT_PATH like '%Follicle Stimulating Hormone%' \n",
    "# \t\tOR\n",
    "# \t\tcon.CONCEPT_PATH like '%Progesterone%' \n",
    "# \t\tOR\n",
    "# \t\tcon.CONCEPT_PATH like '%Estrogen%' \n",
    "# \t\tOR\t\t\n",
    "# \t\tcon.CONCEPT_PATH like '%fertility%' \n",
    "# \t\tOR\n",
    "# \t\tcon.CONCEPT_PATH like '%Family Planning%' \n",
    "# \t\t)\n",
    "# \tAND\n",
    "# \t\tYEAR(obs.START_DATE) between 2001 and 2016\n",
    "# \tAND\n",
    "# \t\tcon.CONCEPT_PATH NOT LIKE '%Diseases of male genital organs%' \n",
    "# \tAND\n",
    "# \t\tcon.CONCEPT_PATH NOT LIKE '%male infertility%'\t\n",
    "# \t\t--obs.TVAL_CHAR != 'Male infertility, unspecified' \n",
    "# \tAND\n",
    "# \t\tpat.SEX_CD='F'\n",
    "\t\t\n",
    "# \t\t--obs.PATIENT_NUM like '9322698'\n",
    "# ORDER BY obs.PATIENT_NUM"
   ]
  },
  {
   "cell_type": "markdown",
   "metadata": {},
   "source": [
    "# Sometimes, we need to get some or all variables (pat.BIRTH_DATE, pat.AGE_IN_YEARS_NUM) for given patients (PATIENT_NUM) in case we miss some related variables. The following codes may be helpful."
   ]
  },
  {
   "cell_type": "code",
   "execution_count": 2,
   "metadata": {
    "collapsed": true
   },
   "outputs": [],
   "source": [
    "import pyodbc\n",
    "import pandas as pd\n",
    "import numpy as np\n",
    "\n",
    "cnxn = pyodbc.connect('DRIVER={SQL Server};SERVER=i2b2Prod')\n",
    "cur = cnxn.cursor()\n",
    "\n",
    "df0=pd.read_csv('df_preg_hormone_drug_uniqueCD.csv')"
   ]
  },
  {
   "cell_type": "markdown",
   "metadata": {},
   "source": [
    "## get some variables (pat.BIRTH_DATE, pat.AGE_IN_YEARS_NUM) for given patients (PATIENT_NUM) "
   ]
  },
  {
   "cell_type": "code",
   "execution_count": 8,
   "metadata": {
    "collapsed": true
   },
   "outputs": [],
   "source": [
    "# x = df0.PATIENT_NUM[0:2000].astype(np.int32).values #str(df0.PATIENT_NUM[0:2].values)#['1000000000164774783','1000000000253252111']\n",
    "# placeholders = ','.join('?' for i in range(len(x)))  # '?,?'\n",
    "# sql = \"SELECT pat.PATIENT_NUM, pat.BIRTH_DATE,pat.AGE_IN_YEARS_NUM  FROM [NSF_Algorithms].[dbo].[patient_dimension] pat WHERE pat.PATIENT_NUM in (%s)\" % placeholders\n",
    "# df1 = pd.read_sql(sql, cnxn, params=x)\n",
    "\n",
    "# x = df0.PATIENT_NUM[2000:4000].astype(np.int32).values #str(df0.PATIENT_NUM[0:2].values)#['1000000000164774783','1000000000253252111']\n",
    "# placeholders = ','.join('?' for i in range(len(x)))  # '?,?'\n",
    "# sql = \"SELECT pat.PATIENT_NUM, pat.BIRTH_DATE,pat.AGE_IN_YEARS_NUM  FROM [NSF_Algorithms].[dbo].[patient_dimension] pat WHERE pat.PATIENT_NUM in (%s)\" % placeholders\n",
    "# df2 = pd.read_sql(sql, cnxn, params=x)\n",
    "\n",
    "# x = df0.PATIENT_NUM[4000:].astype(np.int32).values #str(df0.PATIENT_NUM[0:2].values)#['1000000000164774783','1000000000253252111']\n",
    "# placeholders = ','.join('?' for i in range(len(x)))  # '?,?'\n",
    "# sql = \"SELECT pat.PATIENT_NUM, pat.BIRTH_DATE,pat.AGE_IN_YEARS_NUM  FROM [NSF_Algorithms].[dbo].[patient_dimension] pat WHERE pat.PATIENT_NUM in (%s)\" % placeholders\n",
    "# df3 = pd.read_sql(sql, cnxn, params=x)\n",
    "\n",
    "# df_age_birthdate=pd.concat([df1,df2,df3],ignore_index=True)\n",
    "\n",
    "# df_age_birthdate.to_csv('df_preg_age_birthdate.csv', index=False)"
   ]
  },
  {
   "cell_type": "code",
   "execution_count": 10,
   "metadata": {
    "collapsed": true
   },
   "outputs": [],
   "source": [
    "x = df0.PATIENT_NUM[0:2000].astype(np.int32).values #str(df0.PATIENT_NUM[0:2].values)#['1000000000164774783','1000000000253252111']\n",
    "placeholders = ','.join('?' for i in range(len(x)))  # '?,?'\n",
    "sql = \"SELECT pat.PATIENT_NUM, pat.BIRTH_DATE,pat.AGE_IN_YEARS_NUM  FROM [NSF_Algorithms].[dbo].[patient_dimension] pat WHERE pat.PATIENT_NUM in (%s)\" % placeholders\n",
    "df1 = pd.read_sql(sql, cnxn, params=x)\n",
    "\n",
    "x = df0.PATIENT_NUM[2000:].astype(np.int32).values #str(df0.PATIENT_NUM[0:2].values)#['1000000000164774783','1000000000253252111']\n",
    "placeholders = ','.join('?' for i in range(len(x)))  # '?,?'\n",
    "sql = \"SELECT pat.PATIENT_NUM, pat.BIRTH_DATE,pat.AGE_IN_YEARS_NUM  FROM [NSF_Algorithms].[dbo].[patient_dimension] pat WHERE pat.PATIENT_NUM in (%s)\" % placeholders\n",
    "df2 = pd.read_sql(sql, cnxn, params=x)\n",
    "\n",
    "df_age_birthdate=pd.concat([df1,df2],ignore_index=True)\n",
    "\n",
    "df_age_birthdate.to_csv('df_preg_age_birthdate2.csv', index=False)"
   ]
  },
  {
   "cell_type": "markdown",
   "metadata": {},
   "source": [
    "## get all possible variables related to cigarette for given patients (PATIENT_NUM) "
   ]
  },
  {
   "cell_type": "code",
   "execution_count": null,
   "metadata": {
    "collapsed": true
   },
   "outputs": [],
   "source": [
    "x = df0.PATIENT_NUM[0:2000].astype(np.int32).values #str(df0.PATIENT_NUM[0:2].values)#['1000000000164774783','1000000000253252111']\n",
    "placeholders = ','.join('?' for i in range(len(x)))  # '?,?'\n",
    "sql = \"SELECT obs.PATIENT_NUM, obs.CONCEPT_CD,obs.START_DATE, obs.VALTYPE_CD, obs.TVAL_CHAR, obs.NVAL_NUM, con.CONCEPT_PATH, con.NAME_CHAR  FROM [NSF_Algorithms].[dbo].[observation_fact] obs, [NSF_Algorithms].[dbo].[concept_dimension] con WHERE (con.CONCEPT_PATH like '%%cigarette%%') AND (obs.CONCEPT_CD=con.CONCEPT_CD) AND obs.PATIENT_NUM in (%s)\" % placeholders\n",
    "df1 = pd.read_sql(sql, cnxn, params=x)\n",
    "\n",
    "x = df0.PATIENT_NUM[2000:].astype(np.int32).values #str(df0.PATIENT_NUM[0:2].values)#['1000000000164774783','1000000000253252111']\n",
    "placeholders = ','.join('?' for i in range(len(x)))  # '?,?'\n",
    "sql = \"SELECT obs.PATIENT_NUM, obs.CONCEPT_CD,obs.START_DATE, obs.VALTYPE_CD, obs.TVAL_CHAR, obs.NVAL_NUM, con.CONCEPT_PATH, con.NAME_CHAR  FROM [NSF_Algorithms].[dbo].[observation_fact] obs, [NSF_Algorithms].[dbo].[concept_dimension] con WHERE (con.CONCEPT_PATH like '%%cigarette%%') AND (obs.CONCEPT_CD=con.CONCEPT_CD) AND obs.PATIENT_NUM in (%s)\" % placeholders\n",
    "df2 = pd.read_sql(sql, cnxn, params=x)\n",
    "\n",
    "df=pd.concat([df1,df2],ignore_index=True)"
   ]
  },
  {
   "cell_type": "code",
   "execution_count": null,
   "metadata": {
    "collapsed": true
   },
   "outputs": [],
   "source": [
    "df=df.sort_values(['PATIENT_NUM','START_DATE'])\n",
    "df=df.drop_duplicates(subset=['PATIENT_NUM','CONCEPT_CD'], keep= 'last')\n",
    "df.CONCEPT_CD.value_counts().to_frame()"
   ]
  }
 ],
 "metadata": {
  "kernelspec": {
   "display_name": "Python 3",
   "language": "python",
   "name": "python3"
  },
  "language_info": {
   "codemirror_mode": {
    "name": "ipython",
    "version": 3
   },
   "file_extension": ".py",
   "mimetype": "text/x-python",
   "name": "python",
   "nbconvert_exporter": "python",
   "pygments_lexer": "ipython3",
   "version": "3.6.1"
  }
 },
 "nbformat": 4,
 "nbformat_minor": 2
}

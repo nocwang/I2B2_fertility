{
 "cells": [
  {
   "cell_type": "code",
   "execution_count": 393,
   "metadata": {
    "collapsed": true
   },
   "outputs": [],
   "source": [
    "import numpy as np\n",
    "import pandas as pd\n",
    "df=pd.read_csv('df_preg_hormone_.csv')"
   ]
  },
  {
   "cell_type": "code",
   "execution_count": 394,
   "metadata": {},
   "outputs": [
    {
     "name": "stdout",
     "output_type": "stream",
     "text": [
      "1.12.1\n"
     ]
    }
   ],
   "source": [
    "print(np.__version__)"
   ]
  },
  {
   "cell_type": "code",
   "execution_count": 395,
   "metadata": {},
   "outputs": [
    {
     "name": "stdout",
     "output_type": "stream",
     "text": [
      "(87384, 12)\n"
     ]
    }
   ],
   "source": [
    "df.dropna(subset=['TVAL_CHAR', 'NVAL_NUM'], how='all')\n",
    "print(df.shape)"
   ]
  },
  {
   "cell_type": "code",
   "execution_count": 396,
   "metadata": {},
   "outputs": [
    {
     "name": "stdout",
     "output_type": "stream",
     "text": [
      "(87384, 12)\n"
     ]
    }
   ],
   "source": [
    "print(df.shape)\n",
    "# df.describe(include='all')"
   ]
  },
  {
   "cell_type": "code",
   "execution_count": 397,
   "metadata": {
    "collapsed": true
   },
   "outputs": [],
   "source": [
    "# df.head()"
   ]
  },
  {
   "cell_type": "code",
   "execution_count": 398,
   "metadata": {},
   "outputs": [
    {
     "data": {
      "text/plain": [
       "16850"
      ]
     },
     "execution_count": 398,
     "metadata": {},
     "output_type": "execute_result"
    }
   ],
   "source": [
    "len(df.PATIENT_NUM.unique())"
   ]
  },
  {
   "cell_type": "markdown",
   "metadata": {},
   "source": [
    "# only keep patients with hormone and delete patients with only preg"
   ]
  },
  {
   "cell_type": "code",
   "execution_count": 399,
   "metadata": {},
   "outputs": [
    {
     "name": "stdout",
     "output_type": "stream",
     "text": [
      "5933\n"
     ]
    }
   ],
   "source": [
    "keep_patient=[]\n",
    "for id in df.PATIENT_NUM.unique():#:#[0:1]:\n",
    "#     patient=df[df.PATIENT_NUM==id]\n",
    "    if sum(~df[df.PATIENT_NUM==id].CONCEPT_CD.isin( ['HDID:2578','HDID:50588']))>0:\n",
    "        keep_patient.append(id)\n",
    "    \n",
    "print(len(keep_patient))\n",
    "\n",
    "df=df[df.PATIENT_NUM.isin(keep_patient)]"
   ]
  },
  {
   "cell_type": "code",
   "execution_count": 400,
   "metadata": {
    "collapsed": true
   },
   "outputs": [],
   "source": [
    "# df#.head()"
   ]
  },
  {
   "cell_type": "code",
   "execution_count": 401,
   "metadata": {},
   "outputs": [
    {
     "data": {
      "text/plain": [
       "5933"
      ]
     },
     "execution_count": 401,
     "metadata": {},
     "output_type": "execute_result"
    }
   ],
   "source": [
    "len(df.PATIENT_NUM.unique())"
   ]
  },
  {
   "cell_type": "code",
   "execution_count": 402,
   "metadata": {
    "collapsed": true
   },
   "outputs": [],
   "source": [
    "# df.CONCEPT_CD.value_counts().to_frame()"
   ]
  },
  {
   "cell_type": "markdown",
   "metadata": {},
   "source": [
    "# delete irregular preg result in HDID:2578 and 'HDID:50588'"
   ]
  },
  {
   "cell_type": "code",
   "execution_count": 403,
   "metadata": {
    "collapsed": true
   },
   "outputs": [],
   "source": [
    "df.loc[df.CONCEPT_CD.isin( ['HDID:2578','HDID:50588']),'TVAL_CHAR']=df[df.CONCEPT_CD.isin( ['HDID:2578','HDID:50588'])].TVAL_CHAR.str.lower()"
   ]
  },
  {
   "cell_type": "code",
   "execution_count": 404,
   "metadata": {
    "scrolled": true
   },
   "outputs": [
    {
     "data": {
      "text/plain": [
       "array(['n/a', 'done', 'xxxxx', '9000 on', 'ucg: 5/19/', 'urine preg', 'e',\n",
       "       '+ ucg: 3/1', 'ucg:', 'hcg done n', 'sent 1/30/', '6/21/02 ur',\n",
       "       'ucg today', 'nan', 'urine hcg', '2017-08-01 00:00:00',\n",
       "       '2017-07-01 00:00:00', '2017-07-02 00:00:00', '2005-10-01 00:00:00',\n",
       "       '2017-06-02 00:00:00', 'home ucg +', '2017-05-01 00:00:00', 'f/u',\n",
       "       'less than 2', 'hyst', '+', '+ ucg: 12/', 'ng ucg tod',\n",
       "       '2000-08-01 00:00:00', 'ucg +, ucg', 'pt decline', 'not perfor',\n",
       "       '2001-12-01 00:00:00', '166 on 3/2', '2017-11-20 00:00:00',\n",
       "       '110/01', '10/2/03 do', 'bhcg: less', '2017-10-01 00:00:00', 'ucg/',\n",
       "       '(-)', 'ucg: 5/13/', 'ucg/ quest', '3 wks ago', 'ucg done n', '0.5',\n",
       "       '2017-02-02 00:00:00', '29386', '2017-04-01 00:00:00', 'menopausal',\n",
       "       'ucg: msb r', '2017-11-02 00:00:00', '2017-11-01 00:00:00',\n",
       "       'bhcg 1310', 's/p nsvd o', '+ ucg: 8/2', '10003', '24000',\n",
       "       '10/21/02--', 'urine', 'reported a', 'not sexual', 'not done',\n",
       "       't.l.', 'ucg', '2017-08-02 00:00:00', '10/22/01 p',\n",
       "       '2017-03-02 00:00:00', '2017-12-01 00:00:00', 'ucg: 1/14/',\n",
       "       '9/11-8606,', 'on depopro', '22000', '2017-09-02 00:00:00',\n",
       "       ', last coi', 's/p t.l.', '`', 'tl', '2004-07-01 00:00:00',\n",
       "       'pending', 'ucg=+ toda', 'obgyn visi', 'pr', '10/8/03 do',\n",
       "       'sent to la', 'finger sti', 'menses', '2004-08-01 00:00:00',\n",
       "       'ucg:+ msb', 'fu', 'bhcg: 11/2', 'glucose', '2017-09-01 00:00:00',\n",
       "       '+ ucg:', 'less than 5', '2001-04-01 00:00:00', 'ucg faintl',\n",
       "       '2017-01-02 00:00:00', '+ ucg 3/30', 'no period', 'on depo pr',\n",
       "       '425/02', '-', '10/4/02.', 'dmpa user,', 'urine dip', '+ ucg 3/3/',\n",
       "       '2017-04-02 00:00:00', 'req', 'y', 'see report', 'none',\n",
       "       '40414 (9/1', 'bhcg:2/4/0', '12762', 'ucg 8/4/03', '8/4/03 ucg',\n",
       "       'ucg 10/21/', 'nd', '_ ucg msb', 'depo prove', 'serum done',\n",
       "       'ucg test n', 'urain preg', 'denies coi', 'urine oreg', '14255',\n",
       "       'pt. refuse'], \n",
       "      dtype='|S19')"
      ]
     },
     "execution_count": 404,
     "metadata": {},
     "output_type": "execute_result"
    }
   ],
   "source": [
    "name2578=df[df.CONCEPT_CD.isin( ['HDID:2578','HDID:50588'])].TVAL_CHAR.unique()#.str.lower().unique()\n",
    "#name2578\n",
    "\n",
    "# name2578.dtype\n",
    "type(name2578)\n",
    "\n",
    "name2578=name2578.astype(str)\n",
    "\n",
    "# Ms') for s in name2578] \n",
    "\n",
    "pos_id=[i for i,item in enumerate(name2578) if \"pos\" in item or \" po\" in item]\n",
    "name2578pos= name2578[pos_id]\n",
    "\n",
    "is_pos=np.zeros(name2578.shape)#,dtype=bool\n",
    "is_pos[pos_id] = True\n",
    "\n",
    "neg_id=[i for i,item in enumerate(name2578) if \"neg\" in item or \" ne\" in item or 'neative' in item]\n",
    "name2578neg=name2578[neg_id]\n",
    "\n",
    "is_neg=np.zeros(name2578.shape)#,dtype=bool\n",
    "is_neg[neg_id] = True\n",
    "\n",
    "delete_name2578=name2578[is_pos+is_neg==0]\n",
    "\n",
    "delete_name2578"
   ]
  },
  {
   "cell_type": "code",
   "execution_count": 405,
   "metadata": {},
   "outputs": [
    {
     "name": "stdout",
     "output_type": "stream",
     "text": [
      "5933\n"
     ]
    },
    {
     "data": {
      "text/plain": [
       "neg    17669\n",
       "pos     2865\n",
       "Name: TVAL_CHAR, dtype: int64"
      ]
     },
     "execution_count": 405,
     "metadata": {},
     "output_type": "execute_result"
    }
   ],
   "source": [
    "df=df[~df.TVAL_CHAR.isin(delete_name2578)]#.CONCEPT_CD.unique()\n",
    "\n",
    "# # temp=[i for i,item in enumerate(delete_name2578) if \" ne\" in item or 'neative' in item]\n",
    "# # delete_name2578[temp]\n",
    "# temp=[i for i,item in enumerate(delete_name2578) if \" po\" in item or 'neative' in item]\n",
    "# delete_name2578[temp]\n",
    "print(len(df.PATIENT_NUM.unique()))\n",
    "\n",
    "# df.loc[np.logical_and (df.CONCEPT_CD=='HDID:2578',df['TVAL_CHAR'].isin(name2578pos)),'TVAL_CHAR']=\"pos\" \n",
    "\n",
    "# df.loc[np.logical_and (df.CONCEPT_CD=='HDID:2578',df['TVAL_CHAR'].isin(name2578neg)),'TVAL_CHAR']=\"neg\"\n",
    "df.loc[df['TVAL_CHAR'].isin(name2578pos),'TVAL_CHAR']=\"pos\" \n",
    "\n",
    "df.loc[df['TVAL_CHAR'].isin(name2578neg),'TVAL_CHAR']=\"neg\"\n",
    "\n",
    "df_preg=df.CONCEPT_CD.isin( ['HDID:2578','HDID:50588'])\n",
    "df[df_preg].TVAL_CHAR.value_counts()"
   ]
  },
  {
   "cell_type": "code",
   "execution_count": 406,
   "metadata": {
    "collapsed": true
   },
   "outputs": [],
   "source": [
    "# df[df_preg].TVAL_CHAR.isnull().sum()\n",
    "# df[df_preg].TVAL_CHAR.isnull().index\n",
    "drop_row=df[df_preg].loc[df[df_preg].TVAL_CHAR.isnull(),:].index\n",
    "\n",
    "# drop_row\n",
    "df=df.drop(drop_row)"
   ]
  },
  {
   "cell_type": "markdown",
   "metadata": {},
   "source": [
    "# remove records until the last record is HDID:2578 or HDID:50588"
   ]
  },
  {
   "cell_type": "code",
   "execution_count": 408,
   "metadata": {},
   "outputs": [
    {
     "name": "stdout",
     "output_type": "stream",
     "text": [
      "446\n"
     ]
    }
   ],
   "source": [
    "drop_row=[]\n",
    "for id in df.PATIENT_NUM.unique():#[0:1]:\n",
    "    patient=df[df.PATIENT_NUM==id]\n",
    "#     print(patient)\n",
    "    k=len(patient)-1#RECORD_ID\n",
    "    while k!=-1: \n",
    "#         print(k)\n",
    "        if (patient.iloc[k,:].CONCEPT_CD != 'HDID:2578' and patient.iloc[k,:].CONCEPT_CD != 'HDID:50588') or k == 0:\n",
    "            drop_row.append(patient.index[k])#patient.iloc[k,0]\n",
    "            k=k-1\n",
    "        else:\n",
    "            break\n",
    "    \n",
    "print(len(drop_row))"
   ]
  },
  {
   "cell_type": "code",
   "execution_count": 409,
   "metadata": {},
   "outputs": [
    {
     "data": {
      "text/plain": [
       "5717"
      ]
     },
     "execution_count": 409,
     "metadata": {},
     "output_type": "execute_result"
    }
   ],
   "source": [
    "df=df.drop(drop_row)\n",
    "len(df.PATIENT_NUM.unique())"
   ]
  },
  {
   "cell_type": "code",
   "execution_count": 410,
   "metadata": {
    "collapsed": true
   },
   "outputs": [],
   "source": [
    "# df"
   ]
  },
  {
   "cell_type": "code",
   "execution_count": 411,
   "metadata": {
    "collapsed": true
   },
   "outputs": [],
   "source": [
    "# np.logical_and (df.CONCEPT_CD=='HDID:2578',df['TVAL_CHAR'].isin(name2578pos))"
   ]
  },
  {
   "cell_type": "markdown",
   "metadata": {},
   "source": [
    "# only keep patients with hormone and delete patients with only preg (2)"
   ]
  },
  {
   "cell_type": "code",
   "execution_count": 413,
   "metadata": {},
   "outputs": [
    {
     "name": "stdout",
     "output_type": "stream",
     "text": [
      "5712\n"
     ]
    }
   ],
   "source": [
    "keep_patient=[]\n",
    "for id in df.PATIENT_NUM.unique():#:#[0:1]:\n",
    "    patient=df[df.PATIENT_NUM==id]\n",
    "    if sum(~patient.CONCEPT_CD.isin( ['HDID:2578','HDID:50588']))>0 or sum(patient.CONCEPT_CD.isin( ['HDID:2578','HDID:50588']))==0:\n",
    "        keep_patient.append(id)\n",
    "    \n",
    "print(len(keep_patient))\n",
    "\n",
    "df=df[df.PATIENT_NUM.isin(keep_patient)]"
   ]
  },
  {
   "cell_type": "markdown",
   "metadata": {},
   "source": [
    "# only keep last record besides the last preg to be predicted"
   ]
  },
  {
   "cell_type": "code",
   "execution_count": 414,
   "metadata": {},
   "outputs": [
    {
     "name": "stdout",
     "output_type": "stream",
     "text": [
      "20683\n"
     ]
    }
   ],
   "source": [
    "keep_row=[]\n",
    "for id in df.PATIENT_NUM.unique():#[0:1]:#[0:1]:\n",
    "    patient=df[df.PATIENT_NUM==id].iloc[:-1,:]\n",
    "# #     print(patient)\n",
    "#     k=len(patient)#RECORD_ID\n",
    "    keep_row.append(df[df.PATIENT_NUM==id].index[-1])\n",
    "#     for CD in patient.CONCEPT_CD.unique():\n",
    "#         #prin​keep_row=[]\n",
    "# for id in df.PATIENT_NUM.unique():#[0:1]:#[0:1]:\n",
    "#     patient=df[df.PATIENT_NUM==id].iloc[:-1,:]\n",
    "# # #     print(patient)\n",
    "# #     k=len(patient)#RECORD_ID\n",
    "#     keep_row.append(df[df.PATIENT_NUM==id].index[-1])\n",
    "    for CD in patient.CONCEPT_CD.unique():\n",
    "        #print(CD)\n",
    "        keep_row.append(patient[patient.CONCEPT_CD==CD].index[-1])\n",
    "    \n",
    "# print(len(keep_row))t(CD)\n",
    "#         keep_row.append(patient[patient.CONCEPT_CD==CD].index[-1])\n",
    "    \n",
    "# print(len(keep_row))"
   ]
  },
  {
   "cell_type": "code",
   "execution_count": 415,
   "metadata": {
    "collapsed": true
   },
   "outputs": [],
   "source": [
    "# keep_row\n",
    "df2=df.loc[keep_row,:]\n",
    "df2=df2.sort_values(['PATIENT_NUM','START_DATE'])\n",
    "# df2#.head()"
   ]
  },
  {
   "cell_type": "code",
   "execution_count": 416,
   "metadata": {},
   "outputs": [
    {
     "data": {
      "text/plain": [
       "5712"
      ]
     },
     "execution_count": 416,
     "metadata": {},
     "output_type": "execute_result"
    }
   ],
   "source": [
    "len(df2.PATIENT_NUM.unique())"
   ]
  },
  {
   "cell_type": "markdown",
   "metadata": {},
   "source": [
    "# drop last record (preg) if the last 2nd  (preg)  has the same START_DATE"
   ]
  },
  {
   "cell_type": "code",
   "execution_count": 417,
   "metadata": {},
   "outputs": [
    {
     "name": "stdout",
     "output_type": "stream",
     "text": [
      "90\n"
     ]
    }
   ],
   "source": [
    "drop_row=[]\n",
    "for id in df2.PATIENT_NUM.unique():#:#[0:1]:  [0:10]\n",
    "    patient=df2[df2.PATIENT_NUM==id].iloc[-2:,:]\n",
    "    if (len(patient.START_DATE.unique()) == 1) and sum(patient.CONCEPT_CD.isin( ['HDID:2578','HDID:50588']))==2:\n",
    "#         print(patient.START_DATE.unique())\n",
    "        drop_row.append(patient.tail(1).index[0])\n",
    "    \n",
    "print(len(drop_row))"
   ]
  },
  {
   "cell_type": "code",
   "execution_count": 418,
   "metadata": {},
   "outputs": [
    {
     "data": {
      "text/plain": [
       "5712"
      ]
     },
     "execution_count": 418,
     "metadata": {},
     "output_type": "execute_result"
    }
   ],
   "source": [
    "df=df2.drop(drop_row)\n",
    "len(df.PATIENT_NUM.unique())"
   ]
  },
  {
   "cell_type": "code",
   "execution_count": 419,
   "metadata": {},
   "outputs": [
    {
     "data": {
      "text/html": [
       "<div>\n",
       "<style>\n",
       "    .dataframe thead tr:only-child th {\n",
       "        text-align: right;\n",
       "    }\n",
       "\n",
       "    .dataframe thead th {\n",
       "        text-align: left;\n",
       "    }\n",
       "\n",
       "    .dataframe tbody tr th {\n",
       "        vertical-align: top;\n",
       "    }\n",
       "</style>\n",
       "<table border=\"1\" class=\"dataframe\">\n",
       "  <thead>\n",
       "    <tr style=\"text-align: right;\">\n",
       "      <th></th>\n",
       "      <th>TVAL_CHAR</th>\n",
       "    </tr>\n",
       "  </thead>\n",
       "  <tbody>\n",
       "    <tr>\n",
       "      <th>neg</th>\n",
       "      <td>8044</td>\n",
       "    </tr>\n",
       "    <tr>\n",
       "      <th>pos</th>\n",
       "      <td>1502</td>\n",
       "    </tr>\n",
       "  </tbody>\n",
       "</table>\n",
       "</div>"
      ],
      "text/plain": [
       "     TVAL_CHAR\n",
       "neg       8044\n",
       "pos       1502"
      ]
     },
     "execution_count": 419,
     "metadata": {},
     "output_type": "execute_result"
    }
   ],
   "source": [
    "df[df.CONCEPT_CD.isin( ['HDID:2578','HDID:50588'])].TVAL_CHAR.value_counts().to_frame()"
   ]
  },
  {
   "cell_type": "code",
   "execution_count": 420,
   "metadata": {
    "scrolled": false
   },
   "outputs": [
    {
     "data": {
      "text/html": [
       "<div>\n",
       "<style>\n",
       "    .dataframe thead tr:only-child th {\n",
       "        text-align: right;\n",
       "    }\n",
       "\n",
       "    .dataframe thead th {\n",
       "        text-align: left;\n",
       "    }\n",
       "\n",
       "    .dataframe tbody tr th {\n",
       "        vertical-align: top;\n",
       "    }\n",
       "</style>\n",
       "<table border=\"1\" class=\"dataframe\">\n",
       "  <thead>\n",
       "    <tr style=\"text-align: right;\">\n",
       "      <th></th>\n",
       "      <th>CONCEPT_PATH</th>\n",
       "    </tr>\n",
       "  </thead>\n",
       "  <tbody>\n",
       "    <tr>\n",
       "      <th>\\HDID2\\Basic\\Dx\\Lab\\Chemistry\\human chorionic gonadotropin, urine, qualitative (urine pregnancy test) (HDID:2578)\\</th>\n",
       "      <td>9057</td>\n",
       "    </tr>\n",
       "    <tr>\n",
       "      <th>\\HDID2\\Basic\\Dx\\Lab\\Chemistry\\follicle stimulating hormone, serum (HDID:149)\\</th>\n",
       "      <td>3571</td>\n",
       "    </tr>\n",
       "    <tr>\n",
       "      <th>\\HDID2\\Basic\\Dx\\Lab\\Chemistry\\luteinizing hormone, serum (HDID:301)\\</th>\n",
       "      <td>2677</td>\n",
       "    </tr>\n",
       "    <tr>\n",
       "      <th>\\HDID2\\Basic\\Hx\\PMH\\infertility, hx of (HDID:7177)\\</th>\n",
       "      <td>1637</td>\n",
       "    </tr>\n",
       "    <tr>\n",
       "      <th>\\i2b2\\Diagnoses\\Genitourinary system (580-629)\\Other disorders of female genital tract (617-629)\\(628) Infertility, female\\(628-9) Infertility, female, of u~\\</th>\n",
       "      <td>1026</td>\n",
       "    </tr>\n",
       "    <tr>\n",
       "      <th>\\HDID2\\Basic\\Dx\\Lab\\Chemistry\\progesterone, serum (HDID:292)\\</th>\n",
       "      <td>728</td>\n",
       "    </tr>\n",
       "    <tr>\n",
       "      <th>\\SVC2\\BMC\\OP\\OB/GYN\\OB/GYN-FAMILY PLANNING\\</th>\n",
       "      <td>507</td>\n",
       "    </tr>\n",
       "    <tr>\n",
       "      <th>\\HDID2\\Basic\\Dx\\Lab\\Genetics/fertility\\pregnancy test results (HDID:50588)\\</th>\n",
       "      <td>489</td>\n",
       "    </tr>\n",
       "    <tr>\n",
       "      <th>\\HDID2\\Basic\\Dx\\Lab\\Chemistry\\17-hydroxyprogesterone, serum or plasma (HDID:3232)\\</th>\n",
       "      <td>346</td>\n",
       "    </tr>\n",
       "    <tr>\n",
       "      <th>\\i2b2\\Diagnoses\\Genitourinary system (580-629)\\Other disorders of female genital tract (617-629)\\(628) Infertility, female\\(628-8) Infertility, female, of o~\\</th>\n",
       "      <td>328</td>\n",
       "    </tr>\n",
       "    <tr>\n",
       "      <th>\\i2b2\\Diagnoses\\Genitourinary system (580-629)\\Other disorders of female genital tract (617-629)\\(628) Infertility, female\\(628-0) Infertility, female, asso~\\</th>\n",
       "      <td>227</td>\n",
       "    </tr>\n",
       "  </tbody>\n",
       "</table>\n",
       "</div>"
      ],
      "text/plain": [
       "                                                    CONCEPT_PATH\n",
       "\\HDID2\\Basic\\Dx\\Lab\\Chemistry\\human chorionic g...          9057\n",
       "\\HDID2\\Basic\\Dx\\Lab\\Chemistry\\follicle stimulat...          3571\n",
       "\\HDID2\\Basic\\Dx\\Lab\\Chemistry\\luteinizing hormo...          2677\n",
       "\\HDID2\\Basic\\Hx\\PMH\\infertility, hx of (HDID:71...          1637\n",
       "\\i2b2\\Diagnoses\\Genitourinary system (580-629)\\...          1026\n",
       "\\HDID2\\Basic\\Dx\\Lab\\Chemistry\\progesterone, ser...           728\n",
       "\\SVC2\\BMC\\OP\\OB/GYN\\OB/GYN-FAMILY PLANNING\\                  507\n",
       "\\HDID2\\Basic\\Dx\\Lab\\Genetics/fertility\\pregnanc...           489\n",
       "\\HDID2\\Basic\\Dx\\Lab\\Chemistry\\17-hydroxyprogest...           346\n",
       "\\i2b2\\Diagnoses\\Genitourinary system (580-629)\\...           328\n",
       "\\i2b2\\Diagnoses\\Genitourinary system (580-629)\\...           227"
      ]
     },
     "execution_count": 420,
     "metadata": {},
     "output_type": "execute_result"
    }
   ],
   "source": [
    "#df.NAME_CHAR.value_counts().to_frame()\n",
    "df.CONCEPT_PATH.value_counts().to_frame()"
   ]
  },
  {
   "cell_type": "code",
   "execution_count": 421,
   "metadata": {},
   "outputs": [
    {
     "data": {
      "text/html": [
       "<div>\n",
       "<style>\n",
       "    .dataframe thead tr:only-child th {\n",
       "        text-align: right;\n",
       "    }\n",
       "\n",
       "    .dataframe thead th {\n",
       "        text-align: left;\n",
       "    }\n",
       "\n",
       "    .dataframe tbody tr th {\n",
       "        vertical-align: top;\n",
       "    }\n",
       "</style>\n",
       "<table border=\"1\" class=\"dataframe\">\n",
       "  <thead>\n",
       "    <tr style=\"text-align: right;\">\n",
       "      <th></th>\n",
       "      <th>CONCEPT_CD</th>\n",
       "    </tr>\n",
       "  </thead>\n",
       "  <tbody>\n",
       "    <tr>\n",
       "      <th>HDID:2578</th>\n",
       "      <td>9057</td>\n",
       "    </tr>\n",
       "    <tr>\n",
       "      <th>HDID:149</th>\n",
       "      <td>3571</td>\n",
       "    </tr>\n",
       "    <tr>\n",
       "      <th>HDID:301</th>\n",
       "      <td>2677</td>\n",
       "    </tr>\n",
       "    <tr>\n",
       "      <th>HDID:7177</th>\n",
       "      <td>1637</td>\n",
       "    </tr>\n",
       "    <tr>\n",
       "      <th>ICD9:628.9</th>\n",
       "      <td>1026</td>\n",
       "    </tr>\n",
       "    <tr>\n",
       "      <th>HDID:292</th>\n",
       "      <td>728</td>\n",
       "    </tr>\n",
       "    <tr>\n",
       "      <th>SVC:BMC:OB/GYN-FAMILY PLANNING</th>\n",
       "      <td>507</td>\n",
       "    </tr>\n",
       "    <tr>\n",
       "      <th>HDID:50588</th>\n",
       "      <td>489</td>\n",
       "    </tr>\n",
       "    <tr>\n",
       "      <th>HDID:3232</th>\n",
       "      <td>346</td>\n",
       "    </tr>\n",
       "    <tr>\n",
       "      <th>ICD9:628.8</th>\n",
       "      <td>328</td>\n",
       "    </tr>\n",
       "    <tr>\n",
       "      <th>ICD9:628.0</th>\n",
       "      <td>227</td>\n",
       "    </tr>\n",
       "  </tbody>\n",
       "</table>\n",
       "</div>"
      ],
      "text/plain": [
       "                                CONCEPT_CD\n",
       "HDID:2578                             9057\n",
       "HDID:149                              3571\n",
       "HDID:301                              2677\n",
       "HDID:7177                             1637\n",
       "ICD9:628.9                            1026\n",
       "HDID:292                               728\n",
       "SVC:BMC:OB/GYN-FAMILY PLANNING         507\n",
       "HDID:50588                             489\n",
       "HDID:3232                              346\n",
       "ICD9:628.8                             328\n",
       "ICD9:628.0                             227"
      ]
     },
     "execution_count": 421,
     "metadata": {},
     "output_type": "execute_result"
    }
   ],
   "source": [
    "df.CONCEPT_CD.value_counts().to_frame()"
   ]
  },
  {
   "cell_type": "code",
   "execution_count": 422,
   "metadata": {
    "scrolled": true
   },
   "outputs": [
    {
     "name": "stdout",
     "output_type": "stream",
     "text": [
      "(20593, 12)\n"
     ]
    },
    {
     "data": {
      "text/html": [
       "<div>\n",
       "<style>\n",
       "    .dataframe thead tr:only-child th {\n",
       "        text-align: right;\n",
       "    }\n",
       "\n",
       "    .dataframe thead th {\n",
       "        text-align: left;\n",
       "    }\n",
       "\n",
       "    .dataframe tbody tr th {\n",
       "        vertical-align: top;\n",
       "    }\n",
       "</style>\n",
       "<table border=\"1\" class=\"dataframe\">\n",
       "  <thead>\n",
       "    <tr style=\"text-align: right;\">\n",
       "      <th></th>\n",
       "      <th>PATIENT_NUM</th>\n",
       "      <th>CONCEPT_CD</th>\n",
       "      <th>START_DATE</th>\n",
       "      <th>VALTYPE_CD</th>\n",
       "      <th>TVAL_CHAR</th>\n",
       "      <th>NVAL_NUM</th>\n",
       "      <th>CONCEPT_PATH</th>\n",
       "      <th>NAME_CHAR</th>\n",
       "      <th>SEX_CD</th>\n",
       "      <th>LANGUAGE_CD</th>\n",
       "      <th>RACE_CD</th>\n",
       "      <th>ZIP_CD</th>\n",
       "    </tr>\n",
       "  </thead>\n",
       "  <tbody>\n",
       "    <tr>\n",
       "      <th>count</th>\n",
       "      <td>2.059300e+04</td>\n",
       "      <td>20593</td>\n",
       "      <td>20593</td>\n",
       "      <td>20593</td>\n",
       "      <td>20593</td>\n",
       "      <td>7056.000000</td>\n",
       "      <td>20593</td>\n",
       "      <td>20593</td>\n",
       "      <td>20593</td>\n",
       "      <td>20593</td>\n",
       "      <td>20593</td>\n",
       "      <td>20590</td>\n",
       "    </tr>\n",
       "    <tr>\n",
       "      <th>unique</th>\n",
       "      <td>NaN</td>\n",
       "      <td>11</td>\n",
       "      <td>17750</td>\n",
       "      <td>2</td>\n",
       "      <td>107</td>\n",
       "      <td>NaN</td>\n",
       "      <td>11</td>\n",
       "      <td>11</td>\n",
       "      <td>1</td>\n",
       "      <td>25</td>\n",
       "      <td>12</td>\n",
       "      <td>322</td>\n",
       "    </tr>\n",
       "    <tr>\n",
       "      <th>top</th>\n",
       "      <td>NaN</td>\n",
       "      <td>HDID:2578</td>\n",
       "      <td>2010-08-23 15:26:00</td>\n",
       "      <td>T</td>\n",
       "      <td>neg</td>\n",
       "      <td>NaN</td>\n",
       "      <td>\\HDID2\\Basic\\Dx\\Lab\\Chemistry\\human chorionic ...</td>\n",
       "      <td>human chorionic gonadotropin, urine, qualitati...</td>\n",
       "      <td>F</td>\n",
       "      <td>DEM|LANGUAGE:engl</td>\n",
       "      <td>DEM|RACE:black</td>\n",
       "      <td>2124</td>\n",
       "    </tr>\n",
       "    <tr>\n",
       "      <th>freq</th>\n",
       "      <td>NaN</td>\n",
       "      <td>9057</td>\n",
       "      <td>4</td>\n",
       "      <td>13537</td>\n",
       "      <td>9600</td>\n",
       "      <td>NaN</td>\n",
       "      <td>9057</td>\n",
       "      <td>9057</td>\n",
       "      <td>20593</td>\n",
       "      <td>15470</td>\n",
       "      <td>12364</td>\n",
       "      <td>1864</td>\n",
       "    </tr>\n",
       "    <tr>\n",
       "      <th>mean</th>\n",
       "      <td>2.915714e+06</td>\n",
       "      <td>NaN</td>\n",
       "      <td>NaN</td>\n",
       "      <td>NaN</td>\n",
       "      <td>NaN</td>\n",
       "      <td>26.887826</td>\n",
       "      <td>NaN</td>\n",
       "      <td>NaN</td>\n",
       "      <td>NaN</td>\n",
       "      <td>NaN</td>\n",
       "      <td>NaN</td>\n",
       "      <td>NaN</td>\n",
       "    </tr>\n",
       "    <tr>\n",
       "      <th>std</th>\n",
       "      <td>2.376369e+06</td>\n",
       "      <td>NaN</td>\n",
       "      <td>NaN</td>\n",
       "      <td>NaN</td>\n",
       "      <td>NaN</td>\n",
       "      <td>359.379221</td>\n",
       "      <td>NaN</td>\n",
       "      <td>NaN</td>\n",
       "      <td>NaN</td>\n",
       "      <td>NaN</td>\n",
       "      <td>NaN</td>\n",
       "      <td>NaN</td>\n",
       "    </tr>\n",
       "    <tr>\n",
       "      <th>min</th>\n",
       "      <td>3.136000e+03</td>\n",
       "      <td>NaN</td>\n",
       "      <td>NaN</td>\n",
       "      <td>NaN</td>\n",
       "      <td>NaN</td>\n",
       "      <td>0.100000</td>\n",
       "      <td>NaN</td>\n",
       "      <td>NaN</td>\n",
       "      <td>NaN</td>\n",
       "      <td>NaN</td>\n",
       "      <td>NaN</td>\n",
       "      <td>NaN</td>\n",
       "    </tr>\n",
       "    <tr>\n",
       "      <th>25%</th>\n",
       "      <td>1.216621e+06</td>\n",
       "      <td>NaN</td>\n",
       "      <td>NaN</td>\n",
       "      <td>NaN</td>\n",
       "      <td>NaN</td>\n",
       "      <td>3.600000</td>\n",
       "      <td>NaN</td>\n",
       "      <td>NaN</td>\n",
       "      <td>NaN</td>\n",
       "      <td>NaN</td>\n",
       "      <td>NaN</td>\n",
       "      <td>NaN</td>\n",
       "    </tr>\n",
       "    <tr>\n",
       "      <th>50%</th>\n",
       "      <td>2.126117e+06</td>\n",
       "      <td>NaN</td>\n",
       "      <td>NaN</td>\n",
       "      <td>NaN</td>\n",
       "      <td>NaN</td>\n",
       "      <td>5.700000</td>\n",
       "      <td>NaN</td>\n",
       "      <td>NaN</td>\n",
       "      <td>NaN</td>\n",
       "      <td>NaN</td>\n",
       "      <td>NaN</td>\n",
       "      <td>NaN</td>\n",
       "    </tr>\n",
       "    <tr>\n",
       "      <th>75%</th>\n",
       "      <td>4.172196e+06</td>\n",
       "      <td>NaN</td>\n",
       "      <td>NaN</td>\n",
       "      <td>NaN</td>\n",
       "      <td>NaN</td>\n",
       "      <td>10.600000</td>\n",
       "      <td>NaN</td>\n",
       "      <td>NaN</td>\n",
       "      <td>NaN</td>\n",
       "      <td>NaN</td>\n",
       "      <td>NaN</td>\n",
       "      <td>NaN</td>\n",
       "    </tr>\n",
       "    <tr>\n",
       "      <th>max</th>\n",
       "      <td>1.162520e+07</td>\n",
       "      <td>NaN</td>\n",
       "      <td>NaN</td>\n",
       "      <td>NaN</td>\n",
       "      <td>NaN</td>\n",
       "      <td>15000.000000</td>\n",
       "      <td>NaN</td>\n",
       "      <td>NaN</td>\n",
       "      <td>NaN</td>\n",
       "      <td>NaN</td>\n",
       "      <td>NaN</td>\n",
       "      <td>NaN</td>\n",
       "    </tr>\n",
       "  </tbody>\n",
       "</table>\n",
       "</div>"
      ],
      "text/plain": [
       "         PATIENT_NUM CONCEPT_CD           START_DATE VALTYPE_CD TVAL_CHAR  \\\n",
       "count   2.059300e+04      20593                20593      20593     20593   \n",
       "unique           NaN         11                17750          2       107   \n",
       "top              NaN  HDID:2578  2010-08-23 15:26:00          T       neg   \n",
       "freq             NaN       9057                    4      13537      9600   \n",
       "mean    2.915714e+06        NaN                  NaN        NaN       NaN   \n",
       "std     2.376369e+06        NaN                  NaN        NaN       NaN   \n",
       "min     3.136000e+03        NaN                  NaN        NaN       NaN   \n",
       "25%     1.216621e+06        NaN                  NaN        NaN       NaN   \n",
       "50%     2.126117e+06        NaN                  NaN        NaN       NaN   \n",
       "75%     4.172196e+06        NaN                  NaN        NaN       NaN   \n",
       "max     1.162520e+07        NaN                  NaN        NaN       NaN   \n",
       "\n",
       "            NVAL_NUM                                       CONCEPT_PATH  \\\n",
       "count    7056.000000                                              20593   \n",
       "unique           NaN                                                 11   \n",
       "top              NaN  \\HDID2\\Basic\\Dx\\Lab\\Chemistry\\human chorionic ...   \n",
       "freq             NaN                                               9057   \n",
       "mean       26.887826                                                NaN   \n",
       "std       359.379221                                                NaN   \n",
       "min         0.100000                                                NaN   \n",
       "25%         3.600000                                                NaN   \n",
       "50%         5.700000                                                NaN   \n",
       "75%        10.600000                                                NaN   \n",
       "max     15000.000000                                                NaN   \n",
       "\n",
       "                                                NAME_CHAR SEX_CD  \\\n",
       "count                                               20593  20593   \n",
       "unique                                                 11      1   \n",
       "top     human chorionic gonadotropin, urine, qualitati...      F   \n",
       "freq                                                 9057  20593   \n",
       "mean                                                  NaN    NaN   \n",
       "std                                                   NaN    NaN   \n",
       "min                                                   NaN    NaN   \n",
       "25%                                                   NaN    NaN   \n",
       "50%                                                   NaN    NaN   \n",
       "75%                                                   NaN    NaN   \n",
       "max                                                   NaN    NaN   \n",
       "\n",
       "              LANGUAGE_CD         RACE_CD ZIP_CD  \n",
       "count               20593           20593  20590  \n",
       "unique                 25              12    322  \n",
       "top     DEM|LANGUAGE:engl  DEM|RACE:black   2124  \n",
       "freq                15470           12364   1864  \n",
       "mean                  NaN             NaN    NaN  \n",
       "std                   NaN             NaN    NaN  \n",
       "min                   NaN             NaN    NaN  \n",
       "25%                   NaN             NaN    NaN  \n",
       "50%                   NaN             NaN    NaN  \n",
       "75%                   NaN             NaN    NaN  \n",
       "max                   NaN             NaN    NaN  "
      ]
     },
     "execution_count": 422,
     "metadata": {},
     "output_type": "execute_result"
    }
   ],
   "source": [
    "print(df.shape)\n",
    "df.describe(include='all')"
   ]
  },
  {
   "cell_type": "code",
   "execution_count": 423,
   "metadata": {
    "scrolled": true
   },
   "outputs": [
    {
     "data": {
      "text/html": [
       "<div>\n",
       "<style>\n",
       "    .dataframe thead tr:only-child th {\n",
       "        text-align: right;\n",
       "    }\n",
       "\n",
       "    .dataframe thead th {\n",
       "        text-align: left;\n",
       "    }\n",
       "\n",
       "    .dataframe tbody tr th {\n",
       "        vertical-align: top;\n",
       "    }\n",
       "</style>\n",
       "<table border=\"1\" class=\"dataframe\">\n",
       "  <thead>\n",
       "    <tr style=\"text-align: right;\">\n",
       "      <th></th>\n",
       "      <th>PATIENT_NUM</th>\n",
       "      <th>CONCEPT_CD</th>\n",
       "      <th>START_DATE</th>\n",
       "      <th>VALTYPE_CD</th>\n",
       "      <th>TVAL_CHAR</th>\n",
       "      <th>NVAL_NUM</th>\n",
       "      <th>CONCEPT_PATH</th>\n",
       "      <th>NAME_CHAR</th>\n",
       "      <th>SEX_CD</th>\n",
       "      <th>LANGUAGE_CD</th>\n",
       "      <th>RACE_CD</th>\n",
       "      <th>ZIP_CD</th>\n",
       "    </tr>\n",
       "  </thead>\n",
       "  <tbody>\n",
       "    <tr>\n",
       "      <th>958</th>\n",
       "      <td>71393</td>\n",
       "      <td>HDID:292</td>\n",
       "      <td>2001-04-03 15:08:00</td>\n",
       "      <td>N</td>\n",
       "      <td>E</td>\n",
       "      <td>0.6</td>\n",
       "      <td>\\HDID2\\Basic\\Dx\\Lab\\Chemistry\\progesterone, se...</td>\n",
       "      <td>progesterone, serum (HDID:292)</td>\n",
       "      <td>F</td>\n",
       "      <td>DEM|LANGUAGE:engl</td>\n",
       "      <td>DEM|RACE:black</td>\n",
       "      <td>2136</td>\n",
       "    </tr>\n",
       "    <tr>\n",
       "      <th>961</th>\n",
       "      <td>71393</td>\n",
       "      <td>HDID:7177</td>\n",
       "      <td>2001-12-15 09:48:22</td>\n",
       "      <td>T</td>\n",
       "      <td>neg</td>\n",
       "      <td>NaN</td>\n",
       "      <td>\\HDID2\\Basic\\Hx\\PMH\\infertility, hx of (HDID:7...</td>\n",
       "      <td>infertility, hx of (HDID:7177)</td>\n",
       "      <td>F</td>\n",
       "      <td>DEM|LANGUAGE:engl</td>\n",
       "      <td>DEM|RACE:black</td>\n",
       "      <td>2136</td>\n",
       "    </tr>\n",
       "    <tr>\n",
       "      <th>962</th>\n",
       "      <td>71393</td>\n",
       "      <td>HDID:2578</td>\n",
       "      <td>2006-06-16 14:42:39</td>\n",
       "      <td>T</td>\n",
       "      <td>neg</td>\n",
       "      <td>NaN</td>\n",
       "      <td>\\HDID2\\Basic\\Dx\\Lab\\Chemistry\\human chorionic ...</td>\n",
       "      <td>human chorionic gonadotropin, urine, qualitati...</td>\n",
       "      <td>F</td>\n",
       "      <td>DEM|LANGUAGE:engl</td>\n",
       "      <td>DEM|RACE:black</td>\n",
       "      <td>2136</td>\n",
       "    </tr>\n",
       "  </tbody>\n",
       "</table>\n",
       "</div>"
      ],
      "text/plain": [
       "     PATIENT_NUM CONCEPT_CD           START_DATE VALTYPE_CD TVAL_CHAR  \\\n",
       "958        71393   HDID:292  2001-04-03 15:08:00          N         E   \n",
       "961        71393  HDID:7177  2001-12-15 09:48:22          T       neg   \n",
       "962        71393  HDID:2578  2006-06-16 14:42:39          T       neg   \n",
       "\n",
       "     NVAL_NUM                                       CONCEPT_PATH  \\\n",
       "958       0.6  \\HDID2\\Basic\\Dx\\Lab\\Chemistry\\progesterone, se...   \n",
       "961       NaN  \\HDID2\\Basic\\Hx\\PMH\\infertility, hx of (HDID:7...   \n",
       "962       NaN  \\HDID2\\Basic\\Dx\\Lab\\Chemistry\\human chorionic ...   \n",
       "\n",
       "                                             NAME_CHAR SEX_CD  \\\n",
       "958                     progesterone, serum (HDID:292)      F   \n",
       "961                     infertility, hx of (HDID:7177)      F   \n",
       "962  human chorionic gonadotropin, urine, qualitati...      F   \n",
       "\n",
       "           LANGUAGE_CD         RACE_CD ZIP_CD  \n",
       "958  DEM|LANGUAGE:engl  DEM|RACE:black   2136  \n",
       "961  DEM|LANGUAGE:engl  DEM|RACE:black   2136  \n",
       "962  DEM|LANGUAGE:engl  DEM|RACE:black   2136  "
      ]
     },
     "execution_count": 423,
     "metadata": {},
     "output_type": "execute_result"
    }
   ],
   "source": [
    "# df[df.CONCEPT_CD=='ICD9:628.9'].TVAL_CHAR.value_counts().to_frame()\n",
    "# # PRIMARY \t1638\n",
    "# # PROBLEM \t759\n",
    "# # SECONDARY \t605\n",
    "# # ADMITTING \t82\n",
    "\n",
    "# df[df.CONCEPT_CD=='HDID:7177'].TVAL_CHAR.value_counts().to_frame()\n",
    "# df[df.CONCEPT_CD=='SVC:BMC:OB/GYN-FAMILY PLANNING'].TVAL_CHAR.value_counts().to_frame()\n",
    "# df[df.CONCEPT_CD=='ICD9:628.8'].TVAL_CHAR.value_counts().to_frame()\n",
    "# # PROBLEM \t256\n",
    "# # PRIMARY \t235\n",
    "# # SECONDARY \t160\n",
    "# # ADMITTING \t6\n",
    "\n",
    "# df[df.CONCEPT_CD=='ICD9:628.0'].TVAL_CHAR.value_counts().to_frame()\n",
    "# PRIMARY \t232\n",
    "# SECONDARY \t125\n",
    "# PROBLEM \t105\n",
    "# ADMITTING \t1\n",
    "\n",
    "# df[df.CONCEPT_CD=='HDID:3232'].TVAL_CHAR.value_counts().to_frame()\n",
    "\n",
    "# df[df.CONCEPT_CD=='HDID:149'].NVAL_NUM.value_counts().to_frame()\n",
    "# df[df.CONCEPT_CD=='HDID:301'].NVAL_NUM.value_counts().to_frame()\n",
    "# df[df.CONCEPT_CD=='HDID:292'].NVAL_NUM.value_counts().to_frame()\n",
    "# df[df.CONCEPT_CD=='HDID:3232'].NVAL_NUM.describe()#value_counts().to_frame()\n",
    "\n",
    "df[df.PATIENT_NUM==71393]"
   ]
  },
  {
   "cell_type": "code",
   "execution_count": 424,
   "metadata": {
    "collapsed": true
   },
   "outputs": [],
   "source": [
    "# df[df.CONCEPT_CD=='HDID:3232']#.TVAL_CHAR.value_counts().to_frame()"
   ]
  },
  {
   "cell_type": "code",
   "execution_count": 425,
   "metadata": {
    "collapsed": true
   },
   "outputs": [],
   "source": [
    "# #patient=df[df.PATIENT_NUM==1344]\n",
    "# patient=df[df.PATIENT_NUM==217]\n",
    "# patient.CONCEPT_CD.unique()\n",
    "\n",
    "# sum(~df[df.PATIENT_NUM==1344].CONCEPT_CD.isin( ['HDID:2578','HDID:50588']))\n",
    "\n",
    "# sum(~df[df.PATIENT_NUM==1104558].CONCEPT_CD.isin( ['HDID:2578','HDID:50588']))\n",
    "\n",
    "#'FALSE' in patient.CONCEPT_CD.isin( ['HDID:2578','HDID:50588'])"
   ]
  },
  {
   "cell_type": "markdown",
   "metadata": {},
   "source": [
    "# generate last preg to be predicted"
   ]
  },
  {
   "cell_type": "code",
   "execution_count": 426,
   "metadata": {},
   "outputs": [
    {
     "name": "stdout",
     "output_type": "stream",
     "text": [
      "5712\n"
     ]
    }
   ],
   "source": [
    "keep_row=[]\n",
    "for id in df.PATIENT_NUM.unique():#[0:1]:#[0:1]:\n",
    "    patient=df[df.PATIENT_NUM==id].iloc[-1,:]\n",
    "# #     print(patient)\n",
    "#     k=len(patient)#RECORD_ID\n",
    "    keep_row.append(df[df.PATIENT_NUM==id].index[-1])   \n",
    "print(len(keep_row))"
   ]
  },
  {
   "cell_type": "code",
   "execution_count": 427,
   "metadata": {},
   "outputs": [
    {
     "data": {
      "text/html": [
       "<div>\n",
       "<style>\n",
       "    .dataframe thead tr:only-child th {\n",
       "        text-align: right;\n",
       "    }\n",
       "\n",
       "    .dataframe thead th {\n",
       "        text-align: left;\n",
       "    }\n",
       "\n",
       "    .dataframe tbody tr th {\n",
       "        vertical-align: top;\n",
       "    }\n",
       "</style>\n",
       "<table border=\"1\" class=\"dataframe\">\n",
       "  <thead>\n",
       "    <tr style=\"text-align: right;\">\n",
       "      <th></th>\n",
       "      <th>TVAL_CHAR</th>\n",
       "    </tr>\n",
       "  </thead>\n",
       "  <tbody>\n",
       "    <tr>\n",
       "      <th>neg</th>\n",
       "      <td>4824</td>\n",
       "    </tr>\n",
       "    <tr>\n",
       "      <th>pos</th>\n",
       "      <td>888</td>\n",
       "    </tr>\n",
       "  </tbody>\n",
       "</table>\n",
       "</div>"
      ],
      "text/plain": [
       "     TVAL_CHAR\n",
       "neg       4824\n",
       "pos        888"
      ]
     },
     "execution_count": 427,
     "metadata": {},
     "output_type": "execute_result"
    }
   ],
   "source": [
    "df.loc[keep_row,:].TVAL_CHAR.value_counts().to_frame()#.describe()"
   ]
  },
  {
   "cell_type": "code",
   "execution_count": 428,
   "metadata": {
    "collapsed": true
   },
   "outputs": [],
   "source": [
    "# df.loc[keep_row,:]"
   ]
  },
  {
   "cell_type": "code",
   "execution_count": 429,
   "metadata": {
    "collapsed": true
   },
   "outputs": [],
   "source": [
    "df_preg=df.loc[keep_row,['PATIENT_NUM','START_DATE','TVAL_CHAR','LANGUAGE_CD','RACE_CD','ZIP_CD']]\n",
    "\n",
    "df_preg.index=range(df_preg.shape[0])\n",
    "\n",
    "# df_preg"
   ]
  },
  {
   "cell_type": "markdown",
   "metadata": {},
   "source": [
    "# generate factors"
   ]
  },
  {
   "cell_type": "code",
   "execution_count": 430,
   "metadata": {},
   "outputs": [
    {
     "data": {
      "text/html": [
       "<div>\n",
       "<style>\n",
       "    .dataframe thead tr:only-child th {\n",
       "        text-align: right;\n",
       "    }\n",
       "\n",
       "    .dataframe thead th {\n",
       "        text-align: left;\n",
       "    }\n",
       "\n",
       "    .dataframe tbody tr th {\n",
       "        vertical-align: top;\n",
       "    }\n",
       "</style>\n",
       "<table border=\"1\" class=\"dataframe\">\n",
       "  <thead>\n",
       "    <tr style=\"text-align: right;\">\n",
       "      <th></th>\n",
       "      <th>CONCEPT_CD</th>\n",
       "    </tr>\n",
       "  </thead>\n",
       "  <tbody>\n",
       "    <tr>\n",
       "      <th>HDID:2578</th>\n",
       "      <td>3579</td>\n",
       "    </tr>\n",
       "    <tr>\n",
       "      <th>HDID:149</th>\n",
       "      <td>3571</td>\n",
       "    </tr>\n",
       "    <tr>\n",
       "      <th>HDID:301</th>\n",
       "      <td>2677</td>\n",
       "    </tr>\n",
       "    <tr>\n",
       "      <th>HDID:7177</th>\n",
       "      <td>1637</td>\n",
       "    </tr>\n",
       "    <tr>\n",
       "      <th>ICD9:628.9</th>\n",
       "      <td>1026</td>\n",
       "    </tr>\n",
       "    <tr>\n",
       "      <th>HDID:292</th>\n",
       "      <td>728</td>\n",
       "    </tr>\n",
       "    <tr>\n",
       "      <th>SVC:BMC:OB/GYN-FAMILY PLANNING</th>\n",
       "      <td>507</td>\n",
       "    </tr>\n",
       "    <tr>\n",
       "      <th>HDID:3232</th>\n",
       "      <td>346</td>\n",
       "    </tr>\n",
       "    <tr>\n",
       "      <th>ICD9:628.8</th>\n",
       "      <td>328</td>\n",
       "    </tr>\n",
       "    <tr>\n",
       "      <th>HDID:50588</th>\n",
       "      <td>255</td>\n",
       "    </tr>\n",
       "    <tr>\n",
       "      <th>ICD9:628.0</th>\n",
       "      <td>227</td>\n",
       "    </tr>\n",
       "  </tbody>\n",
       "</table>\n",
       "</div>"
      ],
      "text/plain": [
       "                                CONCEPT_CD\n",
       "HDID:2578                             3579\n",
       "HDID:149                              3571\n",
       "HDID:301                              2677\n",
       "HDID:7177                             1637\n",
       "ICD9:628.9                            1026\n",
       "HDID:292                               728\n",
       "SVC:BMC:OB/GYN-FAMILY PLANNING         507\n",
       "HDID:3232                              346\n",
       "ICD9:628.8                             328\n",
       "HDID:50588                             255\n",
       "ICD9:628.0                             227"
      ]
     },
     "execution_count": 430,
     "metadata": {},
     "output_type": "execute_result"
    }
   ],
   "source": [
    "x_df = df.index.isin(keep_row)\n",
    "df_no_last=df[~x_df]\n",
    "\n",
    "# df_no_last\n",
    "\n",
    "df_no_last.CONCEPT_CD.value_counts().to_frame()\n",
    "\n",
    "# df_no_last.CONCEPT_CD.unique()#value_counts().to_frame().index"
   ]
  },
  {
   "cell_type": "code",
   "execution_count": 431,
   "metadata": {},
   "outputs": [
    {
     "name": "stderr",
     "output_type": "stream",
     "text": [
      "F:\\Users\\wudai.BMC\\AppData\\Local\\Continuum\\Anaconda2\\lib\\site-packages\\ipykernel_launcher.py:2: SettingWithCopyWarning: \n",
      "A value is trying to be set on a copy of a slice from a DataFrame.\n",
      "Try using .loc[row_indexer,col_indexer] = value instead\n",
      "\n",
      "See the caveats in the documentation: http://pandas.pydata.org/pandas-docs/stable/indexing.html#indexing-view-versus-copy\n",
      "  \n"
     ]
    }
   ],
   "source": [
    "# df_no_last_CD=df_no_last.loc[df_no_last.CONCEPT_CD==CD,:]\n",
    "df_no_last['TVAL_NVAL']=''\n",
    "df_no_last.loc[df_no_last.loc[:,'VALTYPE_CD']=='T','TVAL_NVAL']=df_no_last.loc[df_no_last.loc[:,'VALTYPE_CD']=='T','TVAL_CHAR']\n",
    "df_no_last.loc[df_no_last.loc[:,'VALTYPE_CD']=='N','TVAL_NVAL']=df_no_last.loc[df_no_last.loc[:,'VALTYPE_CD']=='N','NVAL_NUM']\n"
   ]
  },
  {
   "cell_type": "code",
   "execution_count": 432,
   "metadata": {},
   "outputs": [
    {
     "name": "stdout",
     "output_type": "stream",
     "text": [
      "HDID:149\n",
      "HDID:301\n"
     ]
    },
    {
     "name": "stderr",
     "output_type": "stream",
     "text": [
      "F:\\Users\\wudai.BMC\\AppData\\Local\\Continuum\\Anaconda2\\lib\\site-packages\\ipykernel_launcher.py:9: SettingWithCopyWarning: \n",
      "A value is trying to be set on a copy of a slice from a DataFrame.\n",
      "Try using .loc[row_indexer,col_indexer] = value instead\n",
      "\n",
      "See the caveats in the documentation: http://pandas.pydata.org/pandas-docs/stable/indexing.html#indexing-view-versus-copy\n",
      "  if __name__ == '__main__':\n"
     ]
    },
    {
     "name": "stdout",
     "output_type": "stream",
     "text": [
      "HDID:2578\n",
      "HDID:292\n",
      "HDID:7177\n",
      "HDID:50588\n",
      "HDID:3232\n",
      "ICD9:628.9\n",
      "SVC:BMC:OB/GYN-FAMILY PLANNING\n",
      "ICD9:628.8\n",
      "ICD9:628.0\n"
     ]
    }
   ],
   "source": [
    "# df_no_last.loc[df_no_last.CONCEPT_CD==CD,'TVAL_NVAL'].values\n",
    "\n",
    "# df_CD.loc[df_CD.PATIENT_NUM.isin(df_no_last.loc[df_no_last.CONCEPT_CD==CD,'PATIENT_NUM']),CD].unique()\n",
    "\n",
    "df_CD=df_preg[['PATIENT_NUM']]\n",
    "\n",
    "for CD in df_no_last.CONCEPT_CD.unique():#[0:1]\n",
    "    print(CD)\n",
    "    df_CD[CD]=''\n",
    "    df_CD.loc[df_CD.PATIENT_NUM.isin(df_no_last.loc[df_no_last.CONCEPT_CD==CD,'PATIENT_NUM']),CD]=df_no_last.loc[df_no_last.CONCEPT_CD==CD,'TVAL_NVAL'].values\n",
    "#     keep_row.append(patient[patient.CONCEPT_CD==CD].index[-1])\n",
    "\n",
    "# df_CD"
   ]
  },
  {
   "cell_type": "code",
   "execution_count": 433,
   "metadata": {},
   "outputs": [
    {
     "name": "stdout",
     "output_type": "stream",
     "text": [
      "(5712, 17)\n"
     ]
    },
    {
     "data": {
      "text/html": [
       "<div>\n",
       "<style>\n",
       "    .dataframe thead tr:only-child th {\n",
       "        text-align: right;\n",
       "    }\n",
       "\n",
       "    .dataframe thead th {\n",
       "        text-align: left;\n",
       "    }\n",
       "\n",
       "    .dataframe tbody tr th {\n",
       "        vertical-align: top;\n",
       "    }\n",
       "</style>\n",
       "<table border=\"1\" class=\"dataframe\">\n",
       "  <thead>\n",
       "    <tr style=\"text-align: right;\">\n",
       "      <th></th>\n",
       "      <th>PATIENT_NUM</th>\n",
       "      <th>START_DATE</th>\n",
       "      <th>TVAL_CHAR</th>\n",
       "      <th>LANGUAGE_CD</th>\n",
       "      <th>RACE_CD</th>\n",
       "      <th>ZIP_CD</th>\n",
       "      <th>HDID:149</th>\n",
       "      <th>HDID:301</th>\n",
       "      <th>HDID:2578</th>\n",
       "      <th>HDID:292</th>\n",
       "      <th>HDID:7177</th>\n",
       "      <th>HDID:50588</th>\n",
       "      <th>HDID:3232</th>\n",
       "      <th>ICD9:628.9</th>\n",
       "      <th>SVC:BMC:OB/GYN-FAMILY PLANNING</th>\n",
       "      <th>ICD9:628.8</th>\n",
       "      <th>ICD9:628.0</th>\n",
       "    </tr>\n",
       "  </thead>\n",
       "  <tbody>\n",
       "    <tr>\n",
       "      <th>count</th>\n",
       "      <td>5.712000e+03</td>\n",
       "      <td>5712</td>\n",
       "      <td>5712</td>\n",
       "      <td>5712</td>\n",
       "      <td>5712</td>\n",
       "      <td>5711</td>\n",
       "      <td>5712</td>\n",
       "      <td>5712</td>\n",
       "      <td>5712</td>\n",
       "      <td>5712</td>\n",
       "      <td>5712</td>\n",
       "      <td>5712</td>\n",
       "      <td>5712</td>\n",
       "      <td>5712</td>\n",
       "      <td>5712</td>\n",
       "      <td>5712</td>\n",
       "      <td>5712</td>\n",
       "    </tr>\n",
       "    <tr>\n",
       "      <th>unique</th>\n",
       "      <td>NaN</td>\n",
       "      <td>5712</td>\n",
       "      <td>2</td>\n",
       "      <td>25</td>\n",
       "      <td>12</td>\n",
       "      <td>322</td>\n",
       "      <td>439</td>\n",
       "      <td>399</td>\n",
       "      <td>3</td>\n",
       "      <td>259</td>\n",
       "      <td>7</td>\n",
       "      <td>3</td>\n",
       "      <td>205</td>\n",
       "      <td>5</td>\n",
       "      <td>5</td>\n",
       "      <td>5</td>\n",
       "      <td>5</td>\n",
       "    </tr>\n",
       "    <tr>\n",
       "      <th>top</th>\n",
       "      <td>NaN</td>\n",
       "      <td>2013-02-01 14:40:07</td>\n",
       "      <td>neg</td>\n",
       "      <td>DEM|LANGUAGE:engl</td>\n",
       "      <td>DEM|RACE:black</td>\n",
       "      <td>2124</td>\n",
       "      <td></td>\n",
       "      <td></td>\n",
       "      <td>neg</td>\n",
       "      <td></td>\n",
       "      <td></td>\n",
       "      <td></td>\n",
       "      <td></td>\n",
       "      <td></td>\n",
       "      <td></td>\n",
       "      <td></td>\n",
       "      <td></td>\n",
       "    </tr>\n",
       "    <tr>\n",
       "      <th>freq</th>\n",
       "      <td>NaN</td>\n",
       "      <td>1</td>\n",
       "      <td>4824</td>\n",
       "      <td>4296</td>\n",
       "      <td>3398</td>\n",
       "      <td>528</td>\n",
       "      <td>2141</td>\n",
       "      <td>3035</td>\n",
       "      <td>3031</td>\n",
       "      <td>4984</td>\n",
       "      <td>4075</td>\n",
       "      <td>5457</td>\n",
       "      <td>5366</td>\n",
       "      <td>4686</td>\n",
       "      <td>5205</td>\n",
       "      <td>5384</td>\n",
       "      <td>5485</td>\n",
       "    </tr>\n",
       "    <tr>\n",
       "      <th>mean</th>\n",
       "      <td>2.902511e+06</td>\n",
       "      <td>NaN</td>\n",
       "      <td>NaN</td>\n",
       "      <td>NaN</td>\n",
       "      <td>NaN</td>\n",
       "      <td>NaN</td>\n",
       "      <td>NaN</td>\n",
       "      <td>NaN</td>\n",
       "      <td>NaN</td>\n",
       "      <td>NaN</td>\n",
       "      <td>NaN</td>\n",
       "      <td>NaN</td>\n",
       "      <td>NaN</td>\n",
       "      <td>NaN</td>\n",
       "      <td>NaN</td>\n",
       "      <td>NaN</td>\n",
       "      <td>NaN</td>\n",
       "    </tr>\n",
       "    <tr>\n",
       "      <th>std</th>\n",
       "      <td>2.384046e+06</td>\n",
       "      <td>NaN</td>\n",
       "      <td>NaN</td>\n",
       "      <td>NaN</td>\n",
       "      <td>NaN</td>\n",
       "      <td>NaN</td>\n",
       "      <td>NaN</td>\n",
       "      <td>NaN</td>\n",
       "      <td>NaN</td>\n",
       "      <td>NaN</td>\n",
       "      <td>NaN</td>\n",
       "      <td>NaN</td>\n",
       "      <td>NaN</td>\n",
       "      <td>NaN</td>\n",
       "      <td>NaN</td>\n",
       "      <td>NaN</td>\n",
       "      <td>NaN</td>\n",
       "    </tr>\n",
       "    <tr>\n",
       "      <th>min</th>\n",
       "      <td>3.136000e+03</td>\n",
       "      <td>NaN</td>\n",
       "      <td>NaN</td>\n",
       "      <td>NaN</td>\n",
       "      <td>NaN</td>\n",
       "      <td>NaN</td>\n",
       "      <td>NaN</td>\n",
       "      <td>NaN</td>\n",
       "      <td>NaN</td>\n",
       "      <td>NaN</td>\n",
       "      <td>NaN</td>\n",
       "      <td>NaN</td>\n",
       "      <td>NaN</td>\n",
       "      <td>NaN</td>\n",
       "      <td>NaN</td>\n",
       "      <td>NaN</td>\n",
       "      <td>NaN</td>\n",
       "    </tr>\n",
       "    <tr>\n",
       "      <th>25%</th>\n",
       "      <td>1.213448e+06</td>\n",
       "      <td>NaN</td>\n",
       "      <td>NaN</td>\n",
       "      <td>NaN</td>\n",
       "      <td>NaN</td>\n",
       "      <td>NaN</td>\n",
       "      <td>NaN</td>\n",
       "      <td>NaN</td>\n",
       "      <td>NaN</td>\n",
       "      <td>NaN</td>\n",
       "      <td>NaN</td>\n",
       "      <td>NaN</td>\n",
       "      <td>NaN</td>\n",
       "      <td>NaN</td>\n",
       "      <td>NaN</td>\n",
       "      <td>NaN</td>\n",
       "      <td>NaN</td>\n",
       "    </tr>\n",
       "    <tr>\n",
       "      <th>50%</th>\n",
       "      <td>2.103122e+06</td>\n",
       "      <td>NaN</td>\n",
       "      <td>NaN</td>\n",
       "      <td>NaN</td>\n",
       "      <td>NaN</td>\n",
       "      <td>NaN</td>\n",
       "      <td>NaN</td>\n",
       "      <td>NaN</td>\n",
       "      <td>NaN</td>\n",
       "      <td>NaN</td>\n",
       "      <td>NaN</td>\n",
       "      <td>NaN</td>\n",
       "      <td>NaN</td>\n",
       "      <td>NaN</td>\n",
       "      <td>NaN</td>\n",
       "      <td>NaN</td>\n",
       "      <td>NaN</td>\n",
       "    </tr>\n",
       "    <tr>\n",
       "      <th>75%</th>\n",
       "      <td>4.145596e+06</td>\n",
       "      <td>NaN</td>\n",
       "      <td>NaN</td>\n",
       "      <td>NaN</td>\n",
       "      <td>NaN</td>\n",
       "      <td>NaN</td>\n",
       "      <td>NaN</td>\n",
       "      <td>NaN</td>\n",
       "      <td>NaN</td>\n",
       "      <td>NaN</td>\n",
       "      <td>NaN</td>\n",
       "      <td>NaN</td>\n",
       "      <td>NaN</td>\n",
       "      <td>NaN</td>\n",
       "      <td>NaN</td>\n",
       "      <td>NaN</td>\n",
       "      <td>NaN</td>\n",
       "    </tr>\n",
       "    <tr>\n",
       "      <th>max</th>\n",
       "      <td>1.162520e+07</td>\n",
       "      <td>NaN</td>\n",
       "      <td>NaN</td>\n",
       "      <td>NaN</td>\n",
       "      <td>NaN</td>\n",
       "      <td>NaN</td>\n",
       "      <td>NaN</td>\n",
       "      <td>NaN</td>\n",
       "      <td>NaN</td>\n",
       "      <td>NaN</td>\n",
       "      <td>NaN</td>\n",
       "      <td>NaN</td>\n",
       "      <td>NaN</td>\n",
       "      <td>NaN</td>\n",
       "      <td>NaN</td>\n",
       "      <td>NaN</td>\n",
       "      <td>NaN</td>\n",
       "    </tr>\n",
       "  </tbody>\n",
       "</table>\n",
       "</div>"
      ],
      "text/plain": [
       "         PATIENT_NUM           START_DATE TVAL_CHAR        LANGUAGE_CD  \\\n",
       "count   5.712000e+03                 5712      5712               5712   \n",
       "unique           NaN                 5712         2                 25   \n",
       "top              NaN  2013-02-01 14:40:07       neg  DEM|LANGUAGE:engl   \n",
       "freq             NaN                    1      4824               4296   \n",
       "mean    2.902511e+06                  NaN       NaN                NaN   \n",
       "std     2.384046e+06                  NaN       NaN                NaN   \n",
       "min     3.136000e+03                  NaN       NaN                NaN   \n",
       "25%     1.213448e+06                  NaN       NaN                NaN   \n",
       "50%     2.103122e+06                  NaN       NaN                NaN   \n",
       "75%     4.145596e+06                  NaN       NaN                NaN   \n",
       "max     1.162520e+07                  NaN       NaN                NaN   \n",
       "\n",
       "               RACE_CD ZIP_CD HDID:149 HDID:301 HDID:2578 HDID:292 HDID:7177  \\\n",
       "count             5712   5711     5712     5712      5712     5712      5712   \n",
       "unique              12    322      439      399         3      259         7   \n",
       "top     DEM|RACE:black   2124                         neg                      \n",
       "freq              3398    528     2141     3035      3031     4984      4075   \n",
       "mean               NaN    NaN      NaN      NaN       NaN      NaN       NaN   \n",
       "std                NaN    NaN      NaN      NaN       NaN      NaN       NaN   \n",
       "min                NaN    NaN      NaN      NaN       NaN      NaN       NaN   \n",
       "25%                NaN    NaN      NaN      NaN       NaN      NaN       NaN   \n",
       "50%                NaN    NaN      NaN      NaN       NaN      NaN       NaN   \n",
       "75%                NaN    NaN      NaN      NaN       NaN      NaN       NaN   \n",
       "max                NaN    NaN      NaN      NaN       NaN      NaN       NaN   \n",
       "\n",
       "       HDID:50588 HDID:3232 ICD9:628.9 SVC:BMC:OB/GYN-FAMILY PLANNING  \\\n",
       "count        5712      5712       5712                           5712   \n",
       "unique          3       205          5                              5   \n",
       "top                                                                     \n",
       "freq         5457      5366       4686                           5205   \n",
       "mean          NaN       NaN        NaN                            NaN   \n",
       "std           NaN       NaN        NaN                            NaN   \n",
       "min           NaN       NaN        NaN                            NaN   \n",
       "25%           NaN       NaN        NaN                            NaN   \n",
       "50%           NaN       NaN        NaN                            NaN   \n",
       "75%           NaN       NaN        NaN                            NaN   \n",
       "max           NaN       NaN        NaN                            NaN   \n",
       "\n",
       "       ICD9:628.8 ICD9:628.0  \n",
       "count        5712       5712  \n",
       "unique          5          5  \n",
       "top                           \n",
       "freq         5384       5485  \n",
       "mean          NaN        NaN  \n",
       "std           NaN        NaN  \n",
       "min           NaN        NaN  \n",
       "25%           NaN        NaN  \n",
       "50%           NaN        NaN  \n",
       "75%           NaN        NaN  \n",
       "max           NaN        NaN  "
      ]
     },
     "execution_count": 433,
     "metadata": {},
     "output_type": "execute_result"
    }
   ],
   "source": [
    "df_all=pd.merge(df_preg,df_CD, on='PATIENT_NUM')\n",
    "\n",
    "print(df_all.shape)\n",
    "df_all.describe(include='all')"
   ]
  },
  {
   "cell_type": "code",
   "execution_count": 435,
   "metadata": {
    "collapsed": true
   },
   "outputs": [],
   "source": [
    "df_all.to_csv('df_preg_hormone_last.csv', index=False)"
   ]
  }
 ],
 "metadata": {
  "kernelspec": {
   "display_name": "Python 2",
   "language": "python",
   "name": "python2"
  },
  "language_info": {
   "codemirror_mode": {
    "name": "ipython",
    "version": 2
   },
   "file_extension": ".py",
   "mimetype": "text/x-python",
   "name": "python",
   "nbconvert_exporter": "python",
   "pygments_lexer": "ipython2",
   "version": "2.7.13"
  }
 },
 "nbformat": 4,
 "nbformat_minor": 2
}

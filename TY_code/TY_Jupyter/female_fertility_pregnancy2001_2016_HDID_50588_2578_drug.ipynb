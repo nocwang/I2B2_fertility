{
 "cells": [
  {
   "cell_type": "markdown",
   "metadata": {},
   "source": [
    "## SQL to get data between 2001 and 2016\n"
   ]
  },
  {
   "cell_type": "code",
   "execution_count": 18,
   "metadata": {
    "collapsed": true
   },
   "outputs": [],
   "source": [
    "# -- select count(DISTINCT obs.PATIENT_NUM),count(obs.PATIENT_NUM)  \n",
    "# --select *\n",
    "# select obs.PATIENT_NUM, obs.CONCEPT_CD,obs.START_DATE, obs.VALTYPE_CD, obs.TVAL_CHAR, obs.NVAL_NUM, con.CONCEPT_PATH, con.NAME_CHAR, pat.SEX_CD, pat.LANGUAGE_CD,pat.RACE_CD,pat.ZIP_CD\n",
    "# --obs.PATIENT_NUM, con.Concept_cd\n",
    "# from \n",
    "# NSF_Algorithms.dbo.observation_fact obs, NSF_Algorithms.dbo.concept_dimension con, NSF_Algorithms.dbo.patient_dimension pat\n",
    "# where\t\n",
    "# \tobs.PATIENT_NUM in\n",
    "# \t\t(select PATIENT_NUM from NSF_Algorithms.dbo.observation_fact\n",
    "# \t\twhere (CONCEPT_CD like '%HDID:50588%'\n",
    "# \t\tOR\n",
    "# \t\tCONCEPT_CD like '%HDID:2578%')\n",
    "# \t\t--AND\n",
    "# \t\t--CONCEPT_CD like '%RXCUI:688242%'\n",
    "# \t\t)\n",
    "# \tAND\n",
    "# \t\tobs.CONCEPT_CD=con.CONCEPT_CD\n",
    "# \tAND\n",
    "# \t\tobs.PATIENT_NUM=pat.PATIENT_NUM\n",
    "# \tAND\n",
    "# \t\t(\n",
    "# \t\t--con.CONCEPT_PATH like '%Testosterone%' \n",
    "# \t\t--OR\n",
    "# \t\t----con.CONCEPT_PATH like '%Anti-Müllerian hormone%' \n",
    "# \t\t----OR\n",
    "# \t\tcon.CONCEPT_PATH like '%Luteinizing hormone%' \n",
    "# \t\tOR\n",
    "# \t\tcon.CONCEPT_PATH like '%Follicle Stimulating Hormone%' \n",
    "# \t\tOR\n",
    "# \t\tcon.CONCEPT_PATH like '%Progesterone%' \n",
    "# \t\tOR\n",
    "# \t\tcon.CONCEPT_PATH like '%Estrogen%' \n",
    "# \t\tOR\t\t\n",
    "# \t\tcon.CONCEPT_PATH like '%fertility%' \n",
    "# \t\tOR\n",
    "# \t\tcon.CONCEPT_PATH like '%Family Planning%' \n",
    "# \t\tOR\n",
    "# \t\tobs.CONCEPT_CD like '%HDID:50588%'\n",
    "# \t\tOR\n",
    "# \t\tobs.CONCEPT_CD like '%HDID:2578%'\n",
    "# \t\t--OR\n",
    "# \t\t--con.CONCEPT_PATH like '%pregnancy%'\n",
    "# \t\t)\n",
    "# \tAND\n",
    "# \t\tYEAR(obs.START_DATE) between 2001 and 2016\n",
    "# --\t--AND\n",
    "# --\t--\tcon.CONCEPT_PATH like '%pregnancy%'\n",
    "# --\tAND\n",
    "# --\t\tcon.CONCEPT_PATH NOT LIKE '%Diseases of male genital organs%' \n",
    "# --\tAND\n",
    "# --\t\tcon.CONCEPT_PATH NOT LIKE '%male infertility%'\t\n",
    "# --\t\t--obs.TVAL_CHAR != 'Male infertility, unspecified' \n",
    "# \tAND\n",
    "# \t\tpat.SEX_CD='F'\n",
    "\t\t\n",
    "# --\t\t--obs.PATIENT_NUM like '9322698'\n",
    "# ----ORDER BY obs.PATIENT_NUM\t\n",
    "\n",
    "# ----INTO OUTFILE 'data2001_2016.csv'\n",
    "# ----FIELDS TERMINATED BY ','\n",
    "# ----ENCLOSED BY '\"'\n",
    "# --LINES TERMINATED BY '\\n'\t\t\n",
    "\t\t\n",
    "# ----\twhere Concept_cd like 'ICD9:250' \n",
    "# --    where Concept_cd in (\n",
    "# --    select Concept_cd from NSF_Algorithms.dbo.concept_dimension\n",
    "# --    where CONCEPT_PATH like'%Genetics/fertility\\Bloom lab test%')\n",
    "# --\tand YEAR(Start_Date) between 2007 and 2012)\n",
    "# --and Concept_cd in (\n",
    "# --\tselect Concept_cd from NSF_Algorithms.dbo.concept_dimension\n",
    "# --\twhere CONCEPT_PATH like '%Drug Products by VA class%')\n",
    "# --and YEAR(Start_Date) between 2001 and 2012\n"
   ]
  },
  {
   "cell_type": "markdown",
   "metadata": {},
   "source": [
    "# explore related features about hormone (related with fertility and Family Planning)"
   ]
  },
  {
   "cell_type": "code",
   "execution_count": 19,
   "metadata": {
    "collapsed": true
   },
   "outputs": [],
   "source": [
    "import numpy as np\n",
    "import pandas as pd"
   ]
  },
  {
   "cell_type": "markdown",
   "metadata": {},
   "source": [
    "## how many observations?"
   ]
  },
  {
   "cell_type": "code",
   "execution_count": 25,
   "metadata": {
    "collapsed": true
   },
   "outputs": [],
   "source": [
    "#df=pd.read_csv('data2001_2016.csv',nrows =10)\n",
    "#df=pd.read_excel('data2001_2016.xlsx')\n",
    "#hormone2001_2016\n",
    "df=pd.read_csv('df_preg_drug.csv')\n",
    "# df=pd.read_excel('pregnancy2001_2016_HDID_50588_2578.xlsx') "
   ]
  },
  {
   "cell_type": "code",
   "execution_count": 21,
   "metadata": {},
   "outputs": [
    {
     "data": {
      "text/plain": [
       "'Unnamed: 0'"
      ]
     },
     "execution_count": 21,
     "metadata": {},
     "output_type": "execute_result"
    }
   ],
   "source": [
    "df.columns.values[0]"
   ]
  },
  {
   "cell_type": "code",
   "execution_count": 28,
   "metadata": {
    "collapsed": true
   },
   "outputs": [],
   "source": [
    "# df.columns.values[0]='RECORD_ID'\n",
    "df=df.rename(columns = {'Unnamed: 0':'RECORD_ID'})"
   ]
  },
  {
   "cell_type": "code",
   "execution_count": 29,
   "metadata": {},
   "outputs": [
    {
     "data": {
      "text/plain": [
       "'RECORD_ID'"
      ]
     },
     "execution_count": 29,
     "metadata": {},
     "output_type": "execute_result"
    }
   ],
   "source": [
    "df.columns.values[0]"
   ]
  },
  {
   "cell_type": "code",
   "execution_count": null,
   "metadata": {
    "collapsed": true,
    "scrolled": true
   },
   "outputs": [],
   "source": [
    "#df.head()"
   ]
  },
  {
   "cell_type": "code",
   "execution_count": 30,
   "metadata": {},
   "outputs": [
    {
     "name": "stdout",
     "output_type": "stream",
     "text": [
      "(4976, 13)\n"
     ]
    },
    {
     "data": {
      "text/html": [
       "<div>\n",
       "<style>\n",
       "    .dataframe thead tr:only-child th {\n",
       "        text-align: right;\n",
       "    }\n",
       "\n",
       "    .dataframe thead th {\n",
       "        text-align: left;\n",
       "    }\n",
       "\n",
       "    .dataframe tbody tr th {\n",
       "        vertical-align: top;\n",
       "    }\n",
       "</style>\n",
       "<table border=\"1\" class=\"dataframe\">\n",
       "  <thead>\n",
       "    <tr style=\"text-align: right;\">\n",
       "      <th></th>\n",
       "      <th>RECORD_ID</th>\n",
       "      <th>PATIENT_NUM</th>\n",
       "      <th>CONCEPT_CD</th>\n",
       "      <th>START_DATE</th>\n",
       "      <th>VALTYPE_CD</th>\n",
       "      <th>TVAL_CHAR</th>\n",
       "      <th>NVAL_NUM</th>\n",
       "      <th>CONCEPT_PATH</th>\n",
       "      <th>NAME_CHAR</th>\n",
       "      <th>SEX_CD</th>\n",
       "      <th>LANGUAGE_CD</th>\n",
       "      <th>RACE_CD</th>\n",
       "      <th>ZIP_CD</th>\n",
       "    </tr>\n",
       "  </thead>\n",
       "  <tbody>\n",
       "    <tr>\n",
       "      <th>count</th>\n",
       "      <td>4976.000000</td>\n",
       "      <td>4.976000e+03</td>\n",
       "      <td>4976</td>\n",
       "      <td>4976</td>\n",
       "      <td>3533</td>\n",
       "      <td>4946</td>\n",
       "      <td>1008.000000</td>\n",
       "      <td>4976</td>\n",
       "      <td>4976</td>\n",
       "      <td>4976</td>\n",
       "      <td>4976</td>\n",
       "      <td>4976</td>\n",
       "      <td>4.976000e+03</td>\n",
       "    </tr>\n",
       "    <tr>\n",
       "      <th>unique</th>\n",
       "      <td>NaN</td>\n",
       "      <td>NaN</td>\n",
       "      <td>72</td>\n",
       "      <td>4389</td>\n",
       "      <td>2</td>\n",
       "      <td>731</td>\n",
       "      <td>NaN</td>\n",
       "      <td>72</td>\n",
       "      <td>70</td>\n",
       "      <td>1</td>\n",
       "      <td>20</td>\n",
       "      <td>10</td>\n",
       "      <td>NaN</td>\n",
       "    </tr>\n",
       "    <tr>\n",
       "      <th>top</th>\n",
       "      <td>NaN</td>\n",
       "      <td>NaN</td>\n",
       "      <td>HDID:2578</td>\n",
       "      <td>9/5/2010 16:12</td>\n",
       "      <td>T</td>\n",
       "      <td>neg</td>\n",
       "      <td>NaN</td>\n",
       "      <td>\\HDID2\\Basic\\Dx\\Lab\\Chemistry\\human chorionic ...</td>\n",
       "      <td>human chorionic gonadotropin, urine, qualitati...</td>\n",
       "      <td>F</td>\n",
       "      <td>DEM|LANGUAGE:engl</td>\n",
       "      <td>DEM|RACE:black</td>\n",
       "      <td>NaN</td>\n",
       "    </tr>\n",
       "    <tr>\n",
       "      <th>freq</th>\n",
       "      <td>NaN</td>\n",
       "      <td>NaN</td>\n",
       "      <td>1959</td>\n",
       "      <td>9</td>\n",
       "      <td>2525</td>\n",
       "      <td>1106</td>\n",
       "      <td>NaN</td>\n",
       "      <td>1959</td>\n",
       "      <td>1959</td>\n",
       "      <td>4976</td>\n",
       "      <td>3564</td>\n",
       "      <td>2771</td>\n",
       "      <td>NaN</td>\n",
       "    </tr>\n",
       "    <tr>\n",
       "      <th>mean</th>\n",
       "      <td>139786.867765</td>\n",
       "      <td>2.771334e+06</td>\n",
       "      <td>NaN</td>\n",
       "      <td>NaN</td>\n",
       "      <td>NaN</td>\n",
       "      <td>NaN</td>\n",
       "      <td>32.215774</td>\n",
       "      <td>NaN</td>\n",
       "      <td>NaN</td>\n",
       "      <td>NaN</td>\n",
       "      <td>NaN</td>\n",
       "      <td>NaN</td>\n",
       "      <td>5.499090e+04</td>\n",
       "    </tr>\n",
       "    <tr>\n",
       "      <th>std</th>\n",
       "      <td>77236.306060</td>\n",
       "      <td>2.201365e+06</td>\n",
       "      <td>NaN</td>\n",
       "      <td>NaN</td>\n",
       "      <td>NaN</td>\n",
       "      <td>NaN</td>\n",
       "      <td>155.066366</td>\n",
       "      <td>NaN</td>\n",
       "      <td>NaN</td>\n",
       "      <td>NaN</td>\n",
       "      <td>NaN</td>\n",
       "      <td>NaN</td>\n",
       "      <td>2.236584e+06</td>\n",
       "    </tr>\n",
       "    <tr>\n",
       "      <th>min</th>\n",
       "      <td>11.000000</td>\n",
       "      <td>7.406000e+03</td>\n",
       "      <td>NaN</td>\n",
       "      <td>NaN</td>\n",
       "      <td>NaN</td>\n",
       "      <td>NaN</td>\n",
       "      <td>0.100000</td>\n",
       "      <td>NaN</td>\n",
       "      <td>NaN</td>\n",
       "      <td>NaN</td>\n",
       "      <td>NaN</td>\n",
       "      <td>NaN</td>\n",
       "      <td>1.420000e+03</td>\n",
       "    </tr>\n",
       "    <tr>\n",
       "      <th>25%</th>\n",
       "      <td>70375.500000</td>\n",
       "      <td>1.136968e+06</td>\n",
       "      <td>NaN</td>\n",
       "      <td>NaN</td>\n",
       "      <td>NaN</td>\n",
       "      <td>NaN</td>\n",
       "      <td>4.500000</td>\n",
       "      <td>NaN</td>\n",
       "      <td>NaN</td>\n",
       "      <td>NaN</td>\n",
       "      <td>NaN</td>\n",
       "      <td>NaN</td>\n",
       "      <td>2.120000e+03</td>\n",
       "    </tr>\n",
       "    <tr>\n",
       "      <th>50%</th>\n",
       "      <td>170554.000000</td>\n",
       "      <td>2.070509e+06</td>\n",
       "      <td>NaN</td>\n",
       "      <td>NaN</td>\n",
       "      <td>NaN</td>\n",
       "      <td>NaN</td>\n",
       "      <td>9.050000</td>\n",
       "      <td>NaN</td>\n",
       "      <td>NaN</td>\n",
       "      <td>NaN</td>\n",
       "      <td>NaN</td>\n",
       "      <td>NaN</td>\n",
       "      <td>2.126000e+03</td>\n",
       "    </tr>\n",
       "    <tr>\n",
       "      <th>75%</th>\n",
       "      <td>214035.500000</td>\n",
       "      <td>4.001417e+06</td>\n",
       "      <td>NaN</td>\n",
       "      <td>NaN</td>\n",
       "      <td>NaN</td>\n",
       "      <td>NaN</td>\n",
       "      <td>35.625000</td>\n",
       "      <td>NaN</td>\n",
       "      <td>NaN</td>\n",
       "      <td>NaN</td>\n",
       "      <td>NaN</td>\n",
       "      <td>NaN</td>\n",
       "      <td>2.148000e+03</td>\n",
       "    </tr>\n",
       "    <tr>\n",
       "      <th>max</th>\n",
       "      <td>217595.000000</td>\n",
       "      <td>1.129411e+07</td>\n",
       "      <td>NaN</td>\n",
       "      <td>NaN</td>\n",
       "      <td>NaN</td>\n",
       "      <td>NaN</td>\n",
       "      <td>3365.000000</td>\n",
       "      <td>NaN</td>\n",
       "      <td>NaN</td>\n",
       "      <td>NaN</td>\n",
       "      <td>NaN</td>\n",
       "      <td>NaN</td>\n",
       "      <td>1.095600e+08</td>\n",
       "    </tr>\n",
       "  </tbody>\n",
       "</table>\n",
       "</div>"
      ],
      "text/plain": [
       "            RECORD_ID   PATIENT_NUM CONCEPT_CD      START_DATE VALTYPE_CD  \\\n",
       "count     4976.000000  4.976000e+03       4976            4976       3533   \n",
       "unique            NaN           NaN         72            4389          2   \n",
       "top               NaN           NaN  HDID:2578  9/5/2010 16:12          T   \n",
       "freq              NaN           NaN       1959               9       2525   \n",
       "mean    139786.867765  2.771334e+06        NaN             NaN        NaN   \n",
       "std      77236.306060  2.201365e+06        NaN             NaN        NaN   \n",
       "min         11.000000  7.406000e+03        NaN             NaN        NaN   \n",
       "25%      70375.500000  1.136968e+06        NaN             NaN        NaN   \n",
       "50%     170554.000000  2.070509e+06        NaN             NaN        NaN   \n",
       "75%     214035.500000  4.001417e+06        NaN             NaN        NaN   \n",
       "max     217595.000000  1.129411e+07        NaN             NaN        NaN   \n",
       "\n",
       "       TVAL_CHAR     NVAL_NUM  \\\n",
       "count       4946  1008.000000   \n",
       "unique       731          NaN   \n",
       "top          neg          NaN   \n",
       "freq        1106          NaN   \n",
       "mean         NaN    32.215774   \n",
       "std          NaN   155.066366   \n",
       "min          NaN     0.100000   \n",
       "25%          NaN     4.500000   \n",
       "50%          NaN     9.050000   \n",
       "75%          NaN    35.625000   \n",
       "max          NaN  3365.000000   \n",
       "\n",
       "                                             CONCEPT_PATH  \\\n",
       "count                                                4976   \n",
       "unique                                                 72   \n",
       "top     \\HDID2\\Basic\\Dx\\Lab\\Chemistry\\human chorionic ...   \n",
       "freq                                                 1959   \n",
       "mean                                                  NaN   \n",
       "std                                                   NaN   \n",
       "min                                                   NaN   \n",
       "25%                                                   NaN   \n",
       "50%                                                   NaN   \n",
       "75%                                                   NaN   \n",
       "max                                                   NaN   \n",
       "\n",
       "                                                NAME_CHAR SEX_CD  \\\n",
       "count                                                4976   4976   \n",
       "unique                                                 70      1   \n",
       "top     human chorionic gonadotropin, urine, qualitati...      F   \n",
       "freq                                                 1959   4976   \n",
       "mean                                                  NaN    NaN   \n",
       "std                                                   NaN    NaN   \n",
       "min                                                   NaN    NaN   \n",
       "25%                                                   NaN    NaN   \n",
       "50%                                                   NaN    NaN   \n",
       "75%                                                   NaN    NaN   \n",
       "max                                                   NaN    NaN   \n",
       "\n",
       "              LANGUAGE_CD         RACE_CD        ZIP_CD  \n",
       "count                4976            4976  4.976000e+03  \n",
       "unique                 20              10           NaN  \n",
       "top     DEM|LANGUAGE:engl  DEM|RACE:black           NaN  \n",
       "freq                 3564            2771           NaN  \n",
       "mean                  NaN             NaN  5.499090e+04  \n",
       "std                   NaN             NaN  2.236584e+06  \n",
       "min                   NaN             NaN  1.420000e+03  \n",
       "25%                   NaN             NaN  2.120000e+03  \n",
       "50%                   NaN             NaN  2.126000e+03  \n",
       "75%                   NaN             NaN  2.148000e+03  \n",
       "max                   NaN             NaN  1.095600e+08  "
      ]
     },
     "execution_count": 30,
     "metadata": {},
     "output_type": "execute_result"
    }
   ],
   "source": [
    "print(df.shape)\n",
    "df.describe(include='all')\n",
    "#fertility2001_2016_summary=data.describe(include='all')\n",
    "#fertility2001_2016_summary.to_csv('fertility2001_2016_summary.csv')"
   ]
  },
  {
   "cell_type": "markdown",
   "metadata": {},
   "source": [
    "## how many distinct patients?"
   ]
  },
  {
   "cell_type": "code",
   "execution_count": 31,
   "metadata": {},
   "outputs": [
    {
     "data": {
      "text/plain": [
       "686"
      ]
     },
     "execution_count": 31,
     "metadata": {},
     "output_type": "execute_result"
    }
   ],
   "source": [
    "len(df.PATIENT_NUM.unique())"
   ]
  },
  {
   "cell_type": "code",
   "execution_count": null,
   "metadata": {
    "collapsed": true
   },
   "outputs": [],
   "source": [
    "#df.NAME_CHAR.unique()"
   ]
  },
  {
   "cell_type": "markdown",
   "metadata": {},
   "source": [
    "## drop NAN columns"
   ]
  },
  {
   "cell_type": "code",
   "execution_count": null,
   "metadata": {
    "collapsed": true
   },
   "outputs": [],
   "source": [
    "# df1=df.dropna(axis=1, how='all')\n",
    "# #df1.head()\n",
    "\n",
    "# #df1.describe(include='all')\n",
    "\n",
    "# df1.INSTANCE_NUM.unique()"
   ]
  },
  {
   "cell_type": "markdown",
   "metadata": {},
   "source": [
    "## drop all 0 columns"
   ]
  },
  {
   "cell_type": "code",
   "execution_count": null,
   "metadata": {
    "collapsed": true
   },
   "outputs": [],
   "source": [
    "# df2=df1.loc[:, (df1 != df1.ix[0]).any()] \n",
    "\n",
    "# fertility2001_2016_summary2=df2.describe(include='all')\n",
    "\n",
    "# fertility2001_2016_summary2"
   ]
  },
  {
   "cell_type": "code",
   "execution_count": null,
   "metadata": {
    "collapsed": true
   },
   "outputs": [],
   "source": [
    "#fertility2001_2016_summary2.to_csv('fertility2001_2016_summary2.csv')"
   ]
  },
  {
   "cell_type": "markdown",
   "metadata": {},
   "source": [
    "# ignore above 2 cells"
   ]
  },
  {
   "cell_type": "code",
   "execution_count": 32,
   "metadata": {
    "collapsed": true
   },
   "outputs": [],
   "source": [
    "df2=df"
   ]
  },
  {
   "cell_type": "markdown",
   "metadata": {},
   "source": [
    "##  all high freq features by value_counts of column NAME_CHAR"
   ]
  },
  {
   "cell_type": "markdown",
   "metadata": {},
   "source": []
  },
  {
   "cell_type": "code",
   "execution_count": 33,
   "metadata": {
    "collapsed": true
   },
   "outputs": [],
   "source": [
    "df2_NAME_CHAR=df2.NAME_CHAR.value_counts()\n",
    "#df2_NAME_CHAR"
   ]
  },
  {
   "cell_type": "code",
   "execution_count": 34,
   "metadata": {},
   "outputs": [
    {
     "data": {
      "text/html": [
       "<div>\n",
       "<style>\n",
       "    .dataframe thead tr:only-child th {\n",
       "        text-align: right;\n",
       "    }\n",
       "\n",
       "    .dataframe thead th {\n",
       "        text-align: left;\n",
       "    }\n",
       "\n",
       "    .dataframe tbody tr th {\n",
       "        vertical-align: top;\n",
       "    }\n",
       "</style>\n",
       "<table border=\"1\" class=\"dataframe\">\n",
       "  <thead>\n",
       "    <tr style=\"text-align: right;\">\n",
       "      <th></th>\n",
       "      <th>NAME_CHAR</th>\n",
       "    </tr>\n",
       "  </thead>\n",
       "  <tbody>\n",
       "    <tr>\n",
       "      <th>human chorionic gonadotropin, urine, qualitative (urine pregnancy test) (HDID:2578)</th>\n",
       "      <td>1959</td>\n",
       "    </tr>\n",
       "    <tr>\n",
       "      <th>follicle stimulating hormone, serum (HDID:149)</th>\n",
       "      <td>585</td>\n",
       "    </tr>\n",
       "    <tr>\n",
       "      <th>luteinizing hormone, serum (HDID:301)</th>\n",
       "      <td>334</td>\n",
       "    </tr>\n",
       "    <tr>\n",
       "      <th>{21 (Desogestrel 0.15 MG / Ethinyl Estradiol 0.02 MG Oral Tablet) / 5 (Ethinyl Estradiol 0.01 MG Oral Tablet) / 2 (Inert Ingredients 1 MG Oral Tablet) } Pack [Kariva 28 Day] RXCUI:762001 (RXCUI:762001)</th>\n",
       "      <td>328</td>\n",
       "    </tr>\n",
       "    <tr>\n",
       "      <th>Estrogens, Conjugated (USP) 0.625 MG/ML Vaginal Cream [Premarin] RXCUI:688242 (RXCUI:688242)</th>\n",
       "      <td>228</td>\n",
       "    </tr>\n",
       "    <tr>\n",
       "      <th>Estradiol 0.1 MG/ML Vaginal Cream [Estrace] RXCUI:890918 (RXCUI:890918)</th>\n",
       "      <td>204</td>\n",
       "    </tr>\n",
       "    <tr>\n",
       "      <th>Infertility, female, of unspecified origin</th>\n",
       "      <td>187</td>\n",
       "    </tr>\n",
       "    <tr>\n",
       "      <th>Estrogens, Conjugated (USP) 0.625 MG Oral Tablet [Premarin] RXCUI:150840 (RXCUI:150840)</th>\n",
       "      <td>162</td>\n",
       "    </tr>\n",
       "    <tr>\n",
       "      <th>Estradiol 1 MG Oral Tablet (Estrace) (RXCUI:206101) (RXCUI:206101)</th>\n",
       "      <td>108</td>\n",
       "    </tr>\n",
       "    <tr>\n",
       "      <th>progesterone, serum (HDID:292)</th>\n",
       "      <td>91</td>\n",
       "    </tr>\n",
       "    <tr>\n",
       "      <th>pregnancy test results (HDID:50588)</th>\n",
       "      <td>86</td>\n",
       "    </tr>\n",
       "    <tr>\n",
       "      <th>infertility, hx of (HDID:7177)</th>\n",
       "      <td>84</td>\n",
       "    </tr>\n",
       "    <tr>\n",
       "      <th>Estradiol 2 MG Oral Tablet (Estrace) (RXCUI:206241) (RXCUI:206241)</th>\n",
       "      <td>62</td>\n",
       "    </tr>\n",
       "    <tr>\n",
       "      <th>Estrogens, Conjugated (USP) 1.25 MG Oral Tablet (Premarin) (RXCUI:202301) (RXCUI:202301)</th>\n",
       "      <td>59</td>\n",
       "    </tr>\n",
       "    <tr>\n",
       "      <th>Estrogens, Conjugated (USP) 0.3 MG Oral Tablet (Premarin) (RXCUI:208513) (RXCUI:208513)</th>\n",
       "      <td>54</td>\n",
       "    </tr>\n",
       "    <tr>\n",
       "      <th>OB/GYN-FAMILY PLANNING</th>\n",
       "      <td>52</td>\n",
       "    </tr>\n",
       "    <tr>\n",
       "      <th>Infertility, female, associated with anovulation</th>\n",
       "      <td>34</td>\n",
       "    </tr>\n",
       "    <tr>\n",
       "      <th>Infertility, female, of other specified origin</th>\n",
       "      <td>33</td>\n",
       "    </tr>\n",
       "    <tr>\n",
       "      <th>17-hydroxyprogesterone, serum or plasma (HDID:3232)</th>\n",
       "      <td>29</td>\n",
       "    </tr>\n",
       "    <tr>\n",
       "      <th>Estradiol 0.025 MG Vaginal Tablet (Vagifem) (RXCUI:284412) (RXCUI:284412)</th>\n",
       "      <td>26</td>\n",
       "    </tr>\n",
       "    <tr>\n",
       "      <th>Estrogens, Conjugated (USP) 0.9 MG Oral Tablet [Premarin] RXCUI:208949 (RXCUI:208949)</th>\n",
       "      <td>23</td>\n",
       "    </tr>\n",
       "    <tr>\n",
       "      <th>Ethinyl Estradiol 0.01 MG Oral Tablet RXCUI:831872 (RXCUI:831872)</th>\n",
       "      <td>19</td>\n",
       "    </tr>\n",
       "    <tr>\n",
       "      <th>Estradiol 0.01 MG Vaginal Tablet [Vagifem] RXCUI:884709 (RXCUI:884709)</th>\n",
       "      <td>18</td>\n",
       "    </tr>\n",
       "    <tr>\n",
       "      <th>Infertility, female, of uterine origin</th>\n",
       "      <td>16</td>\n",
       "    </tr>\n",
       "    <tr>\n",
       "      <th>90 DAY Estradiol 0.000313 MG/HR Vaginal Ring (Estring) (RXCUI:848330) (RXCUI:848330)</th>\n",
       "      <td>15</td>\n",
       "    </tr>\n",
       "    <tr>\n",
       "      <th>168 HR Estradiol 0.00208 MG/HR Transdermal Patch (Climara) (RXCUI:310174) (RXCUI:310174)</th>\n",
       "      <td>14</td>\n",
       "    </tr>\n",
       "    <tr>\n",
       "      <th>168 HR Estradiol 0.00417 MG/HR Transdermal Patch (RXCUI:238004) (RXCUI:238004)</th>\n",
       "      <td>13</td>\n",
       "    </tr>\n",
       "    <tr>\n",
       "      <th>Hepatitis C virus genotype, PCR (Polymerase Chain Reaction) (HDID:11705)</th>\n",
       "      <td>13</td>\n",
       "    </tr>\n",
       "    <tr>\n",
       "      <th>168 HR Estradiol 0.00417 MG/HR Transdermal Patch (Climara) (RXCUI:310181) (RXCUI:310181)</th>\n",
       "      <td>11</td>\n",
       "    </tr>\n",
       "    <tr>\n",
       "      <th>Estradiol 2 MG Oral Tablet (RXCUI:197659) (RXCUI:197659)</th>\n",
       "      <td>10</td>\n",
       "    </tr>\n",
       "    <tr>\n",
       "      <th>...</th>\n",
       "      <td>...</td>\n",
       "    </tr>\n",
       "    <tr>\n",
       "      <th>Estradiol 0.5 MG Oral Tablet (RXCUI:197657) (RXCUI:197657)</th>\n",
       "      <td>4</td>\n",
       "    </tr>\n",
       "    <tr>\n",
       "      <th>Infertility, female, of pituitary-hypothalamic origin</th>\n",
       "      <td>4</td>\n",
       "    </tr>\n",
       "    <tr>\n",
       "      <th>168 HR Estradiol 0.00208 MG/HR Transdermal Patch RXCUI:238003 (RXCUI:238003)</th>\n",
       "      <td>3</td>\n",
       "    </tr>\n",
       "    <tr>\n",
       "      <th>Estrogens, Conjugated (USP) 5 MG/ML Injectable Solution (Premarin) (RXCUI:211975) (RXCUI:211975)</th>\n",
       "      <td>3</td>\n",
       "    </tr>\n",
       "    <tr>\n",
       "      <th>Estradiol 0.5 MG Oral Tablet (Estrace) (RXCUI:205909) (RXCUI:205909)</th>\n",
       "      <td>3</td>\n",
       "    </tr>\n",
       "    <tr>\n",
       "      <th>{21 (Desogestrel 0.15 MG / Ethinyl Estradiol 0.02 MG Oral Tablet) / 5 (Ethinyl Estradiol 0.01 MG Oral Tablet) / 2 (Inert Ingredients 1 MG Oral Tablet) } Pack [Viorele 28 Day] RXCUI:1252016 (RXCUI:1252016)</th>\n",
       "      <td>3</td>\n",
       "    </tr>\n",
       "    <tr>\n",
       "      <th>84 HR Estradiol 0.00156 MG/HR Transdermal Patch (Vivelle) (RXCUI:310172) (RXCUI:310172)</th>\n",
       "      <td>3</td>\n",
       "    </tr>\n",
       "    <tr>\n",
       "      <th>HIV-1 gp41 antibody, serum (HDID:137251)</th>\n",
       "      <td>2</td>\n",
       "    </tr>\n",
       "    <tr>\n",
       "      <th>84 HR Estradiol 0.00312 MG/HR Transdermal Patch (Alora) (RXCUI:310177) (RXCUI:310177)</th>\n",
       "      <td>2</td>\n",
       "    </tr>\n",
       "    <tr>\n",
       "      <th>ZZINFERTILITY SVC</th>\n",
       "      <td>2</td>\n",
       "    </tr>\n",
       "    <tr>\n",
       "      <th>Estrogens, Conjugated (USP) 0.45 MG Oral Tablet (Premarin) (RXCUI:404550) (RXCUI:404550)</th>\n",
       "      <td>2</td>\n",
       "    </tr>\n",
       "    <tr>\n",
       "      <th>Neisseria Gonorrhoeae DNA (TMA) result (HDID:46359)</th>\n",
       "      <td>2</td>\n",
       "    </tr>\n",
       "    <tr>\n",
       "      <th>Hyperestrogenism</th>\n",
       "      <td>2</td>\n",
       "    </tr>\n",
       "    <tr>\n",
       "      <th>84 HR Estradiol 0.00208 MG/HR Transdermal Patch (Alora) (RXCUI:310173) (RXCUI:310173)</th>\n",
       "      <td>2</td>\n",
       "    </tr>\n",
       "    <tr>\n",
       "      <th>Bloom lab test (HDID:40830)</th>\n",
       "      <td>1</td>\n",
       "    </tr>\n",
       "    <tr>\n",
       "      <th>Niemann Pick lab test (HDID:40837)</th>\n",
       "      <td>1</td>\n",
       "    </tr>\n",
       "    <tr>\n",
       "      <th>familial dysautonomia lab test (HDID:40838)</th>\n",
       "      <td>1</td>\n",
       "    </tr>\n",
       "    <tr>\n",
       "      <th>Estrogens, Esterified (USP) 0.625 MG Oral Tablet (Estratab) (RXCUI:212231) (RXCUI:212231)</th>\n",
       "      <td>1</td>\n",
       "    </tr>\n",
       "    <tr>\n",
       "      <th>Premarin RXCUI:202896 (RXCUI:202896)</th>\n",
       "      <td>1</td>\n",
       "    </tr>\n",
       "    <tr>\n",
       "      <th>168 HR Estradiol 0.00156 MG/HR Transdermal Patch RXCUI:403922 (RXCUI:403922)</th>\n",
       "      <td>1</td>\n",
       "    </tr>\n",
       "    <tr>\n",
       "      <th>84 HR Estradiol 0.00417 MG/HR Transdermal Patch (Estraderm) (RXCUI:310182) (RXCUI:310182)</th>\n",
       "      <td>1</td>\n",
       "    </tr>\n",
       "    <tr>\n",
       "      <th>Canavan lab test (HDID:40831)</th>\n",
       "      <td>1</td>\n",
       "    </tr>\n",
       "    <tr>\n",
       "      <th>pregnancy test, date (HDID:6707)</th>\n",
       "      <td>1</td>\n",
       "    </tr>\n",
       "    <tr>\n",
       "      <th>Estradiol 2.5 MG/ML Topical Lotion (Estrasorb) (RXCUI:688509) (RXCUI:688509)</th>\n",
       "      <td>1</td>\n",
       "    </tr>\n",
       "    <tr>\n",
       "      <th>84 HR Estradiol 0.00104 MG/HR Transdermal Patch (Vivelle) (RXCUI:284378) (RXCUI:284378)</th>\n",
       "      <td>1</td>\n",
       "    </tr>\n",
       "    <tr>\n",
       "      <th>Tay Sachs DNA lab test (HDID:40835)</th>\n",
       "      <td>1</td>\n",
       "    </tr>\n",
       "    <tr>\n",
       "      <th>168 HR Estradiol 0.00312 MG/HR Transdermal Patch (Climara) (RXCUI:310178) (RXCUI:310178)</th>\n",
       "      <td>1</td>\n",
       "    </tr>\n",
       "    <tr>\n",
       "      <th>168 HR Estradiol 0.0025 MG/HR Transdermal Patch (Climara) (RXCUI:404657) (RXCUI:404657)</th>\n",
       "      <td>1</td>\n",
       "    </tr>\n",
       "    <tr>\n",
       "      <th>TPMT (thiopurine methyltransferase) genetics, whole blood (HDID:29018)</th>\n",
       "      <td>1</td>\n",
       "    </tr>\n",
       "    <tr>\n",
       "      <th>Gaucher lab test (HDID:40834)</th>\n",
       "      <td>1</td>\n",
       "    </tr>\n",
       "  </tbody>\n",
       "</table>\n",
       "<p>70 rows × 1 columns</p>\n",
       "</div>"
      ],
      "text/plain": [
       "                                                    NAME_CHAR\n",
       "human chorionic gonadotropin, urine, qualitativ...       1959\n",
       "follicle stimulating hormone, serum (HDID:149)            585\n",
       "luteinizing hormone, serum (HDID:301)                     334\n",
       "{21 (Desogestrel 0.15 MG / Ethinyl Estradiol 0....        328\n",
       "Estrogens, Conjugated (USP) 0.625 MG/ML Vaginal...        228\n",
       "Estradiol 0.1 MG/ML Vaginal Cream [Estrace] RXC...        204\n",
       "Infertility, female, of unspecified origin                187\n",
       "Estrogens, Conjugated (USP) 0.625 MG Oral Table...        162\n",
       "Estradiol 1 MG Oral Tablet (Estrace) (RXCUI:206...        108\n",
       "progesterone, serum (HDID:292)                             91\n",
       "pregnancy test results (HDID:50588)                        86\n",
       "infertility, hx of (HDID:7177)                             84\n",
       "Estradiol 2 MG Oral Tablet (Estrace) (RXCUI:206...         62\n",
       "Estrogens, Conjugated (USP) 1.25 MG Oral Tablet...         59\n",
       "Estrogens, Conjugated (USP) 0.3 MG Oral Tablet ...         54\n",
       "OB/GYN-FAMILY PLANNING                                     52\n",
       "Infertility, female, associated with anovulation           34\n",
       "Infertility, female, of other specified origin             33\n",
       "17-hydroxyprogesterone, serum or plasma (HDID:3...         29\n",
       "Estradiol 0.025 MG Vaginal Tablet (Vagifem) (RX...         26\n",
       "Estrogens, Conjugated (USP) 0.9 MG Oral Tablet ...         23\n",
       "Ethinyl Estradiol 0.01 MG Oral Tablet RXCUI:831...         19\n",
       "Estradiol 0.01 MG Vaginal Tablet [Vagifem] RXCU...         18\n",
       "Infertility, female, of uterine origin                     16\n",
       "90 DAY Estradiol 0.000313 MG/HR Vaginal Ring (E...         15\n",
       "168 HR Estradiol 0.00208 MG/HR Transdermal Patc...         14\n",
       "168 HR Estradiol 0.00417 MG/HR Transdermal Patc...         13\n",
       "Hepatitis C virus genotype, PCR (Polymerase Cha...         13\n",
       "168 HR Estradiol 0.00417 MG/HR Transdermal Patc...         11\n",
       "Estradiol 2 MG Oral Tablet (RXCUI:197659) (RXCU...         10\n",
       "...                                                       ...\n",
       "Estradiol 0.5 MG Oral Tablet (RXCUI:197657) (RX...          4\n",
       "Infertility, female, of pituitary-hypothalamic ...          4\n",
       "168 HR Estradiol 0.00208 MG/HR Transdermal Patc...          3\n",
       "Estrogens, Conjugated (USP) 5 MG/ML Injectable ...          3\n",
       "Estradiol 0.5 MG Oral Tablet (Estrace) (RXCUI:2...          3\n",
       "{21 (Desogestrel 0.15 MG / Ethinyl Estradiol 0....          3\n",
       "84 HR Estradiol 0.00156 MG/HR Transdermal Patch...          3\n",
       "HIV-1 gp41 antibody, serum (HDID:137251)                    2\n",
       "84 HR Estradiol 0.00312 MG/HR Transdermal Patch...          2\n",
       "ZZINFERTILITY SVC                                           2\n",
       "Estrogens, Conjugated (USP) 0.45 MG Oral Tablet...          2\n",
       "Neisseria Gonorrhoeae DNA (TMA) result (HDID:46...          2\n",
       "Hyperestrogenism                                            2\n",
       "84 HR Estradiol 0.00208 MG/HR Transdermal Patch...          2\n",
       "Bloom lab test (HDID:40830)                                 1\n",
       "Niemann Pick lab test (HDID:40837)                          1\n",
       "familial dysautonomia lab test (HDID:40838)                 1\n",
       "Estrogens, Esterified (USP) 0.625 MG Oral Table...          1\n",
       "Premarin RXCUI:202896 (RXCUI:202896)                        1\n",
       "168 HR Estradiol 0.00156 MG/HR Transdermal Patc...          1\n",
       "84 HR Estradiol 0.00417 MG/HR Transdermal Patch...          1\n",
       "Canavan lab test (HDID:40831)                               1\n",
       "pregnancy test, date (HDID:6707)                            1\n",
       "Estradiol 2.5 MG/ML Topical Lotion (Estrasorb) ...          1\n",
       "84 HR Estradiol 0.00104 MG/HR Transdermal Patch...          1\n",
       "Tay Sachs DNA lab test (HDID:40835)                         1\n",
       "168 HR Estradiol 0.00312 MG/HR Transdermal Patc...          1\n",
       "168 HR Estradiol 0.0025 MG/HR Transdermal Patch...          1\n",
       "TPMT (thiopurine methyltransferase) genetics, w...          1\n",
       "Gaucher lab test (HDID:40834)                               1\n",
       "\n",
       "[70 rows x 1 columns]"
      ]
     },
     "execution_count": 34,
     "metadata": {},
     "output_type": "execute_result"
    }
   ],
   "source": [
    "type(df2_NAME_CHAR)\n",
    "df2_NAME_CHAR.to_frame()"
   ]
  },
  {
   "cell_type": "markdown",
   "metadata": {},
   "source": [
    "# how many RXCUI\n",
    "#### \"RxNorm concept unique identifier (RXCUI): This RXCUI always designates the same concept, no matter the form of the name and no matter in what table it is found. Drugs whose names map to the same RXCUI are taken to be the same drug - identical as to ingredients, strengths, and dose forms. Conversely, drugs that differ in any of these particulars are conceptually distinct and will have different RXCUIs.\n",
    "#### Clinical drug component RXCUI: An RxNorm concept unique identifier for a clinical drug. A clinical drug is a pharmaceutical product given to (or taken by) a patient with a therapeutic or diagnostic intent. In RxNorm, the name of a clinical drug combines its ingredients, strengths, and/or form.\""
   ]
  },
  {
   "cell_type": "code",
   "execution_count": 35,
   "metadata": {
    "scrolled": true
   },
   "outputs": [
    {
     "data": {
      "text/html": [
       "<div>\n",
       "<style>\n",
       "    .dataframe thead tr:only-child th {\n",
       "        text-align: right;\n",
       "    }\n",
       "\n",
       "    .dataframe thead th {\n",
       "        text-align: left;\n",
       "    }\n",
       "\n",
       "    .dataframe tbody tr th {\n",
       "        vertical-align: top;\n",
       "    }\n",
       "</style>\n",
       "<table border=\"1\" class=\"dataframe\">\n",
       "  <thead>\n",
       "    <tr style=\"text-align: right;\">\n",
       "      <th></th>\n",
       "      <th>NAME_CHAR</th>\n",
       "    </tr>\n",
       "  </thead>\n",
       "  <tbody>\n",
       "    <tr>\n",
       "      <th>{21 (Desogestrel 0.15 MG / Ethinyl Estradiol 0.02 MG Oral Tablet) / 5 (Ethinyl Estradiol 0.01 MG Oral Tablet) / 2 (Inert Ingredients 1 MG Oral Tablet) } Pack [Kariva 28 Day] RXCUI:762001 (RXCUI:762001)</th>\n",
       "      <td>328</td>\n",
       "    </tr>\n",
       "    <tr>\n",
       "      <th>Estrogens, Conjugated (USP) 0.625 MG/ML Vaginal Cream [Premarin] RXCUI:688242 (RXCUI:688242)</th>\n",
       "      <td>228</td>\n",
       "    </tr>\n",
       "    <tr>\n",
       "      <th>Estradiol 0.1 MG/ML Vaginal Cream [Estrace] RXCUI:890918 (RXCUI:890918)</th>\n",
       "      <td>204</td>\n",
       "    </tr>\n",
       "    <tr>\n",
       "      <th>Estrogens, Conjugated (USP) 0.625 MG Oral Tablet [Premarin] RXCUI:150840 (RXCUI:150840)</th>\n",
       "      <td>162</td>\n",
       "    </tr>\n",
       "    <tr>\n",
       "      <th>Estradiol 1 MG Oral Tablet (Estrace) (RXCUI:206101) (RXCUI:206101)</th>\n",
       "      <td>108</td>\n",
       "    </tr>\n",
       "    <tr>\n",
       "      <th>Estradiol 2 MG Oral Tablet (Estrace) (RXCUI:206241) (RXCUI:206241)</th>\n",
       "      <td>62</td>\n",
       "    </tr>\n",
       "    <tr>\n",
       "      <th>Estrogens, Conjugated (USP) 1.25 MG Oral Tablet (Premarin) (RXCUI:202301) (RXCUI:202301)</th>\n",
       "      <td>59</td>\n",
       "    </tr>\n",
       "    <tr>\n",
       "      <th>Estrogens, Conjugated (USP) 0.3 MG Oral Tablet (Premarin) (RXCUI:208513) (RXCUI:208513)</th>\n",
       "      <td>54</td>\n",
       "    </tr>\n",
       "    <tr>\n",
       "      <th>Estradiol 0.025 MG Vaginal Tablet (Vagifem) (RXCUI:284412) (RXCUI:284412)</th>\n",
       "      <td>26</td>\n",
       "    </tr>\n",
       "    <tr>\n",
       "      <th>Estrogens, Conjugated (USP) 0.9 MG Oral Tablet [Premarin] RXCUI:208949 (RXCUI:208949)</th>\n",
       "      <td>23</td>\n",
       "    </tr>\n",
       "    <tr>\n",
       "      <th>Ethinyl Estradiol 0.01 MG Oral Tablet RXCUI:831872 (RXCUI:831872)</th>\n",
       "      <td>19</td>\n",
       "    </tr>\n",
       "    <tr>\n",
       "      <th>Estradiol 0.01 MG Vaginal Tablet [Vagifem] RXCUI:884709 (RXCUI:884709)</th>\n",
       "      <td>18</td>\n",
       "    </tr>\n",
       "    <tr>\n",
       "      <th>90 DAY Estradiol 0.000313 MG/HR Vaginal Ring (Estring) (RXCUI:848330) (RXCUI:848330)</th>\n",
       "      <td>15</td>\n",
       "    </tr>\n",
       "    <tr>\n",
       "      <th>168 HR Estradiol 0.00208 MG/HR Transdermal Patch (Climara) (RXCUI:310174) (RXCUI:310174)</th>\n",
       "      <td>14</td>\n",
       "    </tr>\n",
       "    <tr>\n",
       "      <th>168 HR Estradiol 0.00417 MG/HR Transdermal Patch (RXCUI:238004) (RXCUI:238004)</th>\n",
       "      <td>13</td>\n",
       "    </tr>\n",
       "    <tr>\n",
       "      <th>168 HR Estradiol 0.00417 MG/HR Transdermal Patch (Climara) (RXCUI:310181) (RXCUI:310181)</th>\n",
       "      <td>11</td>\n",
       "    </tr>\n",
       "    <tr>\n",
       "      <th>Estradiol 2 MG Oral Tablet (RXCUI:197659) (RXCUI:197659)</th>\n",
       "      <td>10</td>\n",
       "    </tr>\n",
       "    <tr>\n",
       "      <th>Estradiol 1 MG Oral Tablet RXCUI:197658 (RXCUI:197658)</th>\n",
       "      <td>8</td>\n",
       "    </tr>\n",
       "    <tr>\n",
       "      <th>168 HR Estradiol 0.00104 MG/HR Transdermal Patch (Climara) (RXCUI:310170) (RXCUI:310170)</th>\n",
       "      <td>8</td>\n",
       "    </tr>\n",
       "    <tr>\n",
       "      <th>Estrogens, Conjugated (USP) 2.5 MG Oral Tablet (Premarin) (RXCUI:202302) (RXCUI:202302)</th>\n",
       "      <td>7</td>\n",
       "    </tr>\n",
       "    <tr>\n",
       "      <th>84 HR Estradiol 0.00208 MG/HR Transdermal Patch [Vivelle] RXCUI:310176 (RXCUI:310176)</th>\n",
       "      <td>6</td>\n",
       "    </tr>\n",
       "    <tr>\n",
       "      <th>84 HR Estradiol 0.00208 MG/HR Transdermal Patch (Estraderm) (RXCUI:310175) (RXCUI:310175)</th>\n",
       "      <td>6</td>\n",
       "    </tr>\n",
       "    <tr>\n",
       "      <th>84 HR Estradiol 0.00417 MG/HR Transdermal Patch (Alora) (RXCUI:310180) (RXCUI:310180)</th>\n",
       "      <td>6</td>\n",
       "    </tr>\n",
       "    <tr>\n",
       "      <th>168 HR Estradiol 0.00156 MG/HR Transdermal Patch (Climara) (RXCUI:404656) (RXCUI:404656)</th>\n",
       "      <td>5</td>\n",
       "    </tr>\n",
       "    <tr>\n",
       "      <th>Estradiol 0.5 MG Oral Tablet (RXCUI:197657) (RXCUI:197657)</th>\n",
       "      <td>4</td>\n",
       "    </tr>\n",
       "    <tr>\n",
       "      <th>Estrogens, Conjugated (USP) 5 MG/ML Injectable Solution (Premarin) (RXCUI:211975) (RXCUI:211975)</th>\n",
       "      <td>3</td>\n",
       "    </tr>\n",
       "    <tr>\n",
       "      <th>{21 (Desogestrel 0.15 MG / Ethinyl Estradiol 0.02 MG Oral Tablet) / 5 (Ethinyl Estradiol 0.01 MG Oral Tablet) / 2 (Inert Ingredients 1 MG Oral Tablet) } Pack [Viorele 28 Day] RXCUI:1252016 (RXCUI:1252016)</th>\n",
       "      <td>3</td>\n",
       "    </tr>\n",
       "    <tr>\n",
       "      <th>168 HR Estradiol 0.00208 MG/HR Transdermal Patch RXCUI:238003 (RXCUI:238003)</th>\n",
       "      <td>3</td>\n",
       "    </tr>\n",
       "    <tr>\n",
       "      <th>84 HR Estradiol 0.00156 MG/HR Transdermal Patch (Vivelle) (RXCUI:310172) (RXCUI:310172)</th>\n",
       "      <td>3</td>\n",
       "    </tr>\n",
       "    <tr>\n",
       "      <th>Estradiol 0.5 MG Oral Tablet (Estrace) (RXCUI:205909) (RXCUI:205909)</th>\n",
       "      <td>3</td>\n",
       "    </tr>\n",
       "    <tr>\n",
       "      <th>84 HR Estradiol 0.00312 MG/HR Transdermal Patch (Alora) (RXCUI:310177) (RXCUI:310177)</th>\n",
       "      <td>2</td>\n",
       "    </tr>\n",
       "    <tr>\n",
       "      <th>84 HR Estradiol 0.00208 MG/HR Transdermal Patch (Alora) (RXCUI:310173) (RXCUI:310173)</th>\n",
       "      <td>2</td>\n",
       "    </tr>\n",
       "    <tr>\n",
       "      <th>Estrogens, Conjugated (USP) 0.45 MG Oral Tablet (Premarin) (RXCUI:404550) (RXCUI:404550)</th>\n",
       "      <td>2</td>\n",
       "    </tr>\n",
       "    <tr>\n",
       "      <th>84 HR Estradiol 0.00104 MG/HR Transdermal Patch (Vivelle) (RXCUI:284378) (RXCUI:284378)</th>\n",
       "      <td>1</td>\n",
       "    </tr>\n",
       "    <tr>\n",
       "      <th>Premarin RXCUI:202896 (RXCUI:202896)</th>\n",
       "      <td>1</td>\n",
       "    </tr>\n",
       "    <tr>\n",
       "      <th>Estradiol 2.5 MG/ML Topical Lotion (Estrasorb) (RXCUI:688509) (RXCUI:688509)</th>\n",
       "      <td>1</td>\n",
       "    </tr>\n",
       "    <tr>\n",
       "      <th>84 HR Estradiol 0.00417 MG/HR Transdermal Patch (Estraderm) (RXCUI:310182) (RXCUI:310182)</th>\n",
       "      <td>1</td>\n",
       "    </tr>\n",
       "    <tr>\n",
       "      <th>168 HR Estradiol 0.00156 MG/HR Transdermal Patch RXCUI:403922 (RXCUI:403922)</th>\n",
       "      <td>1</td>\n",
       "    </tr>\n",
       "    <tr>\n",
       "      <th>168 HR Estradiol 0.00312 MG/HR Transdermal Patch (Climara) (RXCUI:310178) (RXCUI:310178)</th>\n",
       "      <td>1</td>\n",
       "    </tr>\n",
       "    <tr>\n",
       "      <th>168 HR Estradiol 0.0025 MG/HR Transdermal Patch (Climara) (RXCUI:404657) (RXCUI:404657)</th>\n",
       "      <td>1</td>\n",
       "    </tr>\n",
       "    <tr>\n",
       "      <th>Estrogens, Esterified (USP) 0.625 MG Oral Tablet (Estratab) (RXCUI:212231) (RXCUI:212231)</th>\n",
       "      <td>1</td>\n",
       "    </tr>\n",
       "  </tbody>\n",
       "</table>\n",
       "</div>"
      ],
      "text/plain": [
       "                                                    NAME_CHAR\n",
       "{21 (Desogestrel 0.15 MG / Ethinyl Estradiol 0....        328\n",
       "Estrogens, Conjugated (USP) 0.625 MG/ML Vaginal...        228\n",
       "Estradiol 0.1 MG/ML Vaginal Cream [Estrace] RXC...        204\n",
       "Estrogens, Conjugated (USP) 0.625 MG Oral Table...        162\n",
       "Estradiol 1 MG Oral Tablet (Estrace) (RXCUI:206...        108\n",
       "Estradiol 2 MG Oral Tablet (Estrace) (RXCUI:206...         62\n",
       "Estrogens, Conjugated (USP) 1.25 MG Oral Tablet...         59\n",
       "Estrogens, Conjugated (USP) 0.3 MG Oral Tablet ...         54\n",
       "Estradiol 0.025 MG Vaginal Tablet (Vagifem) (RX...         26\n",
       "Estrogens, Conjugated (USP) 0.9 MG Oral Tablet ...         23\n",
       "Ethinyl Estradiol 0.01 MG Oral Tablet RXCUI:831...         19\n",
       "Estradiol 0.01 MG Vaginal Tablet [Vagifem] RXCU...         18\n",
       "90 DAY Estradiol 0.000313 MG/HR Vaginal Ring (E...         15\n",
       "168 HR Estradiol 0.00208 MG/HR Transdermal Patc...         14\n",
       "168 HR Estradiol 0.00417 MG/HR Transdermal Patc...         13\n",
       "168 HR Estradiol 0.00417 MG/HR Transdermal Patc...         11\n",
       "Estradiol 2 MG Oral Tablet (RXCUI:197659) (RXCU...         10\n",
       "Estradiol 1 MG Oral Tablet RXCUI:197658 (RXCUI:...          8\n",
       "168 HR Estradiol 0.00104 MG/HR Transdermal Patc...          8\n",
       "Estrogens, Conjugated (USP) 2.5 MG Oral Tablet ...          7\n",
       "84 HR Estradiol 0.00208 MG/HR Transdermal Patch...          6\n",
       "84 HR Estradiol 0.00208 MG/HR Transdermal Patch...          6\n",
       "84 HR Estradiol 0.00417 MG/HR Transdermal Patch...          6\n",
       "168 HR Estradiol 0.00156 MG/HR Transdermal Patc...          5\n",
       "Estradiol 0.5 MG Oral Tablet (RXCUI:197657) (RX...          4\n",
       "Estrogens, Conjugated (USP) 5 MG/ML Injectable ...          3\n",
       "{21 (Desogestrel 0.15 MG / Ethinyl Estradiol 0....          3\n",
       "168 HR Estradiol 0.00208 MG/HR Transdermal Patc...          3\n",
       "84 HR Estradiol 0.00156 MG/HR Transdermal Patch...          3\n",
       "Estradiol 0.5 MG Oral Tablet (Estrace) (RXCUI:2...          3\n",
       "84 HR Estradiol 0.00312 MG/HR Transdermal Patch...          2\n",
       "84 HR Estradiol 0.00208 MG/HR Transdermal Patch...          2\n",
       "Estrogens, Conjugated (USP) 0.45 MG Oral Tablet...          2\n",
       "84 HR Estradiol 0.00104 MG/HR Transdermal Patch...          1\n",
       "Premarin RXCUI:202896 (RXCUI:202896)                        1\n",
       "Estradiol 2.5 MG/ML Topical Lotion (Estrasorb) ...          1\n",
       "84 HR Estradiol 0.00417 MG/HR Transdermal Patch...          1\n",
       "168 HR Estradiol 0.00156 MG/HR Transdermal Patc...          1\n",
       "168 HR Estradiol 0.00312 MG/HR Transdermal Patc...          1\n",
       "168 HR Estradiol 0.0025 MG/HR Transdermal Patch...          1\n",
       "Estrogens, Esterified (USP) 0.625 MG Oral Table...          1"
      ]
     },
     "execution_count": 35,
     "metadata": {},
     "output_type": "execute_result"
    }
   ],
   "source": [
    "df_RXCUI=df2[df2['NAME_CHAR'].str.contains(\"RXCUI\")]\n",
    "df_RXCUI.NAME_CHAR.value_counts().to_frame()"
   ]
  },
  {
   "cell_type": "markdown",
   "metadata": {},
   "source": [
    "# how many unique patients have RXCUI"
   ]
  },
  {
   "cell_type": "code",
   "execution_count": 36,
   "metadata": {},
   "outputs": [
    {
     "data": {
      "text/plain": [
       "686"
      ]
     },
     "execution_count": 36,
     "metadata": {},
     "output_type": "execute_result"
    }
   ],
   "source": [
    "len(df_RXCUI.PATIENT_NUM.unique())"
   ]
  },
  {
   "cell_type": "code",
   "execution_count": null,
   "metadata": {
    "collapsed": true
   },
   "outputs": [],
   "source": [
    "#df_RXCUI.PATIENT_NUM.value_counts()\n",
    "# df_preg_drug=df2[df2['PATIENT_NUM'].isin(df_RXCUI.PATIENT_NUM.unique())]"
   ]
  },
  {
   "cell_type": "code",
   "execution_count": null,
   "metadata": {
    "collapsed": true
   },
   "outputs": [],
   "source": [
    "# df_preg_drug=df_preg_drug.sort_values(['PATIENT_NUM','START_DATE'])\n"
   ]
  },
  {
   "cell_type": "code",
   "execution_count": null,
   "metadata": {
    "collapsed": true
   },
   "outputs": [],
   "source": [
    "# df_preg_drug.shape"
   ]
  },
  {
   "cell_type": "code",
   "execution_count": null,
   "metadata": {
    "collapsed": true
   },
   "outputs": [],
   "source": [
    "# df_preg_drug=df_preg_drug.drop_duplicates(subset=['PATIENT_NUM','START_DATE','CONCEPT_CD','VALTYPE_CD'])\n",
    "# df_preg_drug.head()"
   ]
  },
  {
   "cell_type": "code",
   "execution_count": null,
   "metadata": {
    "collapsed": true
   },
   "outputs": [],
   "source": [
    "# df_preg_drug.shape"
   ]
  },
  {
   "cell_type": "code",
   "execution_count": null,
   "metadata": {
    "collapsed": true
   },
   "outputs": [],
   "source": [
    "# df_preg_drug.to_csv('df_preg_drug.csv')"
   ]
  },
  {
   "cell_type": "code",
   "execution_count": null,
   "metadata": {
    "collapsed": true
   },
   "outputs": [],
   "source": [
    "# df_preg_drug.describe(include='all')"
   ]
  },
  {
   "cell_type": "markdown",
   "metadata": {},
   "source": [
    "##  all high freq features by value_counts of column CONCEPT_PATH"
   ]
  },
  {
   "cell_type": "code",
   "execution_count": null,
   "metadata": {
    "collapsed": true,
    "scrolled": true
   },
   "outputs": [],
   "source": [
    "df2.CONCEPT_PATH.value_counts().to_frame()#.to_dict()\n",
    "#df2.concept_path.value_counts()"
   ]
  },
  {
   "cell_type": "code",
   "execution_count": null,
   "metadata": {
    "collapsed": true
   },
   "outputs": [],
   "source": [
    "# HDID:2578\n",
    "df2[df2.CONCEPT_CD=='HDID:2578'].TVAL_CHAR.value_counts().to_frame()"
   ]
  },
  {
   "cell_type": "code",
   "execution_count": null,
   "metadata": {
    "collapsed": true
   },
   "outputs": [],
   "source": [
    "df2[df2.CONCEPT_CD=='HDID:50588'].TVAL_CHAR.value_counts().to_frame()"
   ]
  },
  {
   "cell_type": "code",
   "execution_count": null,
   "metadata": {
    "collapsed": true
   },
   "outputs": [],
   "source": [
    "df2.CONCEPT_CD.value_counts().to_frame()"
   ]
  },
  {
   "cell_type": "code",
   "execution_count": null,
   "metadata": {
    "collapsed": true
   },
   "outputs": [],
   "source": [
    " df_RXCUI=df2[df2['NAME_CHAR'].str.contains(\"RXCUI\")]\n",
    "# df_RXCUI.NAME_CHAR.value_counts()\n",
    "# len(df_RXCUI.PATIENT_NUM.unique())"
   ]
  },
  {
   "cell_type": "markdown",
   "metadata": {},
   "source": [
    "## most patients have 1 obs but some have dozens"
   ]
  },
  {
   "cell_type": "code",
   "execution_count": null,
   "metadata": {
    "collapsed": true
   },
   "outputs": [],
   "source": [
    "df_RXCUI.PATIENT_NUM.value_counts().to_frame()"
   ]
  },
  {
   "cell_type": "markdown",
   "metadata": {},
   "source": [
    "## why some patients have more obs"
   ]
  },
  {
   "cell_type": "markdown",
   "metadata": {},
   "source": [
    "# patient with RXCUI"
   ]
  },
  {
   "cell_type": "code",
   "execution_count": null,
   "metadata": {
    "collapsed": true,
    "scrolled": true
   },
   "outputs": [],
   "source": [
    "#1713971     \n",
    "df1234674=df2[df2.PATIENT_NUM==1713971]\n",
    "df1234674.sort_values(['START_DATE'])"
   ]
  },
  {
   "cell_type": "markdown",
   "metadata": {},
   "source": [
    "# patient do test first then drug but no later test"
   ]
  },
  {
   "cell_type": "code",
   "execution_count": null,
   "metadata": {
    "collapsed": true
   },
   "outputs": [],
   "source": [
    "df2[df2.PATIENT_NUM==1892352]"
   ]
  },
  {
   "cell_type": "code",
   "execution_count": null,
   "metadata": {
    "collapsed": true
   },
   "outputs": [],
   "source": [
    "df2[df2.PATIENT_NUM==449428]"
   ]
  },
  {
   "cell_type": "code",
   "execution_count": null,
   "metadata": {
    "collapsed": true
   },
   "outputs": [],
   "source": [
    "df2[df2.PATIENT_NUM==596904]"
   ]
  },
  {
   "cell_type": "markdown",
   "metadata": {},
   "source": [
    "# remove records until the last record is HDID:2578 or HDID:50588"
   ]
  },
  {
   "cell_type": "code",
   "execution_count": 37,
   "metadata": {
    "collapsed": true
   },
   "outputs": [],
   "source": [
    "df=df2"
   ]
  },
  {
   "cell_type": "code",
   "execution_count": 81,
   "metadata": {
    "scrolled": true
   },
   "outputs": [
    {
     "data": {
      "text/html": [
       "<div>\n",
       "<style>\n",
       "    .dataframe thead tr:only-child th {\n",
       "        text-align: right;\n",
       "    }\n",
       "\n",
       "    .dataframe thead th {\n",
       "        text-align: left;\n",
       "    }\n",
       "\n",
       "    .dataframe tbody tr th {\n",
       "        vertical-align: top;\n",
       "    }\n",
       "</style>\n",
       "<table border=\"1\" class=\"dataframe\">\n",
       "  <thead>\n",
       "    <tr style=\"text-align: right;\">\n",
       "      <th></th>\n",
       "      <th>RECORD_ID</th>\n",
       "      <th>PATIENT_NUM</th>\n",
       "      <th>CONCEPT_CD</th>\n",
       "      <th>START_DATE</th>\n",
       "      <th>VALTYPE_CD</th>\n",
       "      <th>TVAL_CHAR</th>\n",
       "      <th>NVAL_NUM</th>\n",
       "      <th>CONCEPT_PATH</th>\n",
       "      <th>NAME_CHAR</th>\n",
       "      <th>SEX_CD</th>\n",
       "      <th>LANGUAGE_CD</th>\n",
       "      <th>RACE_CD</th>\n",
       "      <th>ZIP_CD</th>\n",
       "    </tr>\n",
       "  </thead>\n",
       "  <tbody>\n",
       "    <tr>\n",
       "      <th>0</th>\n",
       "      <td>1452</td>\n",
       "      <td>7406</td>\n",
       "      <td>HDID:149</td>\n",
       "      <td>9/14/2010 17:00</td>\n",
       "      <td>N</td>\n",
       "      <td>E</td>\n",
       "      <td>8.3</td>\n",
       "      <td>\\HDID2\\Basic\\Dx\\Lab\\Chemistry\\follicle stimula...</td>\n",
       "      <td>follicle stimulating hormone, serum (HDID:149)</td>\n",
       "      <td>F</td>\n",
       "      <td>DEM|LANGUAGE:engl</td>\n",
       "      <td>DEM|RACE:black</td>\n",
       "      <td>2122</td>\n",
       "    </tr>\n",
       "    <tr>\n",
       "      <th>1</th>\n",
       "      <td>214686</td>\n",
       "      <td>7406</td>\n",
       "      <td>RXCUI:688242</td>\n",
       "      <td>10/12/2010 15:22</td>\n",
       "      <td>NaN</td>\n",
       "      <td>apply 1 gram  pv q at bedtime x 4 wks then 2 g...</td>\n",
       "      <td>NaN</td>\n",
       "      <td>\\Drug Products by VA Class\\GU000 GENITOURINARY...</td>\n",
       "      <td>Estrogens, Conjugated (USP) 0.625 MG/ML Vagina...</td>\n",
       "      <td>F</td>\n",
       "      <td>DEM|LANGUAGE:engl</td>\n",
       "      <td>DEM|RACE:black</td>\n",
       "      <td>2122</td>\n",
       "    </tr>\n",
       "    <tr>\n",
       "      <th>2</th>\n",
       "      <td>96855</td>\n",
       "      <td>7406</td>\n",
       "      <td>HDID:2578</td>\n",
       "      <td>3/20/2011 15:24</td>\n",
       "      <td>T</td>\n",
       "      <td>neg</td>\n",
       "      <td>NaN</td>\n",
       "      <td>\\HDID2\\Basic\\Dx\\Lab\\Chemistry\\human chorionic ...</td>\n",
       "      <td>human chorionic gonadotropin, urine, qualitati...</td>\n",
       "      <td>F</td>\n",
       "      <td>DEM|LANGUAGE:engl</td>\n",
       "      <td>DEM|RACE:black</td>\n",
       "      <td>2122</td>\n",
       "    </tr>\n",
       "    <tr>\n",
       "      <th>3</th>\n",
       "      <td>5156</td>\n",
       "      <td>7406</td>\n",
       "      <td>HDID:149</td>\n",
       "      <td>9/5/2012 12:31</td>\n",
       "      <td>N</td>\n",
       "      <td>E</td>\n",
       "      <td>90.1</td>\n",
       "      <td>\\HDID2\\Basic\\Dx\\Lab\\Chemistry\\follicle stimula...</td>\n",
       "      <td>follicle stimulating hormone, serum (HDID:149)</td>\n",
       "      <td>F</td>\n",
       "      <td>DEM|LANGUAGE:engl</td>\n",
       "      <td>DEM|RACE:black</td>\n",
       "      <td>2122</td>\n",
       "    </tr>\n",
       "    <tr>\n",
       "      <th>4</th>\n",
       "      <td>147707</td>\n",
       "      <td>31955</td>\n",
       "      <td>HDID:2578</td>\n",
       "      <td>9/24/2004 10:05</td>\n",
       "      <td>T</td>\n",
       "      <td>Negative</td>\n",
       "      <td>NaN</td>\n",
       "      <td>\\HDID2\\Basic\\Dx\\Lab\\Chemistry\\human chorionic ...</td>\n",
       "      <td>human chorionic gonadotropin, urine, qualitati...</td>\n",
       "      <td>F</td>\n",
       "      <td>DEM|LANGUAGE:engl</td>\n",
       "      <td>DEM|RACE:black</td>\n",
       "      <td>2121</td>\n",
       "    </tr>\n",
       "  </tbody>\n",
       "</table>\n",
       "</div>"
      ],
      "text/plain": [
       "   RECORD_ID  PATIENT_NUM    CONCEPT_CD        START_DATE VALTYPE_CD  \\\n",
       "0       1452         7406      HDID:149   9/14/2010 17:00          N   \n",
       "1     214686         7406  RXCUI:688242  10/12/2010 15:22        NaN   \n",
       "2      96855         7406     HDID:2578   3/20/2011 15:24          T   \n",
       "3       5156         7406      HDID:149    9/5/2012 12:31          N   \n",
       "4     147707        31955     HDID:2578   9/24/2004 10:05          T   \n",
       "\n",
       "                                           TVAL_CHAR  NVAL_NUM  \\\n",
       "0                                                  E       8.3   \n",
       "1  apply 1 gram  pv q at bedtime x 4 wks then 2 g...       NaN   \n",
       "2                                                neg       NaN   \n",
       "3                                                  E      90.1   \n",
       "4                                           Negative       NaN   \n",
       "\n",
       "                                        CONCEPT_PATH  \\\n",
       "0  \\HDID2\\Basic\\Dx\\Lab\\Chemistry\\follicle stimula...   \n",
       "1  \\Drug Products by VA Class\\GU000 GENITOURINARY...   \n",
       "2  \\HDID2\\Basic\\Dx\\Lab\\Chemistry\\human chorionic ...   \n",
       "3  \\HDID2\\Basic\\Dx\\Lab\\Chemistry\\follicle stimula...   \n",
       "4  \\HDID2\\Basic\\Dx\\Lab\\Chemistry\\human chorionic ...   \n",
       "\n",
       "                                           NAME_CHAR SEX_CD  \\\n",
       "0     follicle stimulating hormone, serum (HDID:149)      F   \n",
       "1  Estrogens, Conjugated (USP) 0.625 MG/ML Vagina...      F   \n",
       "2  human chorionic gonadotropin, urine, qualitati...      F   \n",
       "3     follicle stimulating hormone, serum (HDID:149)      F   \n",
       "4  human chorionic gonadotropin, urine, qualitati...      F   \n",
       "\n",
       "         LANGUAGE_CD         RACE_CD  ZIP_CD  \n",
       "0  DEM|LANGUAGE:engl  DEM|RACE:black    2122  \n",
       "1  DEM|LANGUAGE:engl  DEM|RACE:black    2122  \n",
       "2  DEM|LANGUAGE:engl  DEM|RACE:black    2122  \n",
       "3  DEM|LANGUAGE:engl  DEM|RACE:black    2122  \n",
       "4  DEM|LANGUAGE:engl  DEM|RACE:black    2121  "
      ]
     },
     "execution_count": 81,
     "metadata": {},
     "output_type": "execute_result"
    }
   ],
   "source": [
    "df.head(5)"
   ]
  },
  {
   "cell_type": "code",
   "execution_count": 63,
   "metadata": {},
   "outputs": [
    {
     "data": {
      "text/plain": [
       "'HDID:149'"
      ]
     },
     "execution_count": 63,
     "metadata": {},
     "output_type": "execute_result"
    }
   ],
   "source": [
    "# # df.iloc[:,0]\n",
    "# # df.iloc[-1,0]\n",
    "# df.RECORD_ID.tail(5)#[1]#[-1]\n",
    "\n",
    "# len(df)\n",
    "\n",
    "# id =7406#df.PATIENT_NUM.unique()[0:1]\n",
    "\n",
    "# id\n",
    "\n",
    "# patient=df[df.PATIENT_NUM==id]\n",
    "# print(patient)\n",
    "\n",
    "# k=len(patient)-1#RECORD_ID\n",
    "\n",
    "# k\n",
    "\n",
    "# patient.iloc[k,0]\n",
    "\n",
    "# patient.iloc[k,:].CONCEPT_CD"
   ]
  },
  {
   "cell_type": "code",
   "execution_count": 72,
   "metadata": {},
   "outputs": [
    {
     "data": {
      "text/plain": [
       "[5156]"
      ]
     },
     "execution_count": 72,
     "metadata": {},
     "output_type": "execute_result"
    }
   ],
   "source": [
    "# #patient\n",
    "\n",
    "# drop_row=[]\n",
    "# k=len(patient)-1\n",
    "# while k!=-1: \n",
    "#     print(k)\n",
    "#     if (patient.iloc[k,:].CONCEPT_CD != 'HDID:2578' and patient.iloc[k,:].CONCEPT_CD != 'HDID:50588'):\n",
    "#         drop_row.append(patient.iloc[k,0])\n",
    "#         k=k-1\n",
    "#     else:\n",
    "#         break\n",
    "    \n",
    "# print(k)\n",
    "\n",
    "# drop_row"
   ]
  },
  {
   "cell_type": "code",
   "execution_count": 84,
   "metadata": {},
   "outputs": [
    {
     "name": "stdout",
     "output_type": "stream",
     "text": [
      "1393\n"
     ]
    }
   ],
   "source": [
    "drop_row=[]\n",
    "for id in df.PATIENT_NUM.unique():#[0:1]:\n",
    "    patient=df[df.PATIENT_NUM==id]\n",
    "#     print(patient)\n",
    "    k=len(patient)-1#RECORD_ID\n",
    "    while k!=-1: \n",
    "#         print(k)\n",
    "        if (patient.iloc[k,:].CONCEPT_CD != 'HDID:2578' and patient.iloc[k,:].CONCEPT_CD != 'HDID:50588') or k == 0:\n",
    "            drop_row.append(patient.iloc[k,0])\n",
    "            k=k-1\n",
    "        else:\n",
    "            break\n",
    "    \n",
    "print(len(drop_row))"
   ]
  },
  {
   "cell_type": "code",
   "execution_count": 86,
   "metadata": {},
   "outputs": [
    {
     "data": {
      "text/plain": [
       "531"
      ]
     },
     "execution_count": 86,
     "metadata": {},
     "output_type": "execute_result"
    }
   ],
   "source": [
    "df3=df[~df.RECORD_ID.isin(drop_row)]\n",
    "\n",
    "len(df3.PATIENT_NUM.unique())"
   ]
  },
  {
   "cell_type": "code",
   "execution_count": null,
   "metadata": {
    "collapsed": true
   },
   "outputs": [],
   "source": [
    "# 'HDID:2578' != 'HDID:50588'"
   ]
  },
  {
   "cell_type": "code",
   "execution_count": 87,
   "metadata": {
    "scrolled": true
   },
   "outputs": [
    {
     "data": {
      "text/plain": [
       "442638      46\n",
       "3603285     45\n",
       "1170099     35\n",
       "1104229     33\n",
       "2754577     32\n",
       "1071756     31\n",
       "954471      31\n",
       "3429013     30\n",
       "1978074     29\n",
       "1327655     29\n",
       "2512860     26\n",
       "1116556     25\n",
       "1810606     25\n",
       "7871717     24\n",
       "2145934     24\n",
       "216538      23\n",
       "1525846     23\n",
       "1499414     23\n",
       "352100      23\n",
       "3399501     23\n",
       "3248644     23\n",
       "5911703     22\n",
       "3314129     22\n",
       "4078809     21\n",
       "4712106     20\n",
       "4218438     20\n",
       "1689016     19\n",
       "1073653     19\n",
       "4221588     19\n",
       "3059980     18\n",
       "            ..\n",
       "7931798      2\n",
       "10142580     2\n",
       "10166254     2\n",
       "217511       2\n",
       "3123708      2\n",
       "275513       2\n",
       "8104754      2\n",
       "5655608      2\n",
       "4670596      2\n",
       "5770296      2\n",
       "548821       2\n",
       "936824       2\n",
       "977389       2\n",
       "11049836     2\n",
       "1094499      2\n",
       "3418625      2\n",
       "2077194      2\n",
       "7107100      2\n",
       "3806236      2\n",
       "2263786      2\n",
       "5205536      2\n",
       "5242643      2\n",
       "10147606     2\n",
       "8104572      2\n",
       "6277740      2\n",
       "2228821      2\n",
       "8266790      2\n",
       "1188474      2\n",
       "2824752      2\n",
       "1241639      2\n",
       "Name: PATIENT_NUM, Length: 531, dtype: int64"
      ]
     },
     "execution_count": 87,
     "metadata": {},
     "output_type": "execute_result"
    }
   ],
   "source": [
    "df3.PATIENT_NUM.value_counts()"
   ]
  },
  {
   "cell_type": "code",
   "execution_count": 88,
   "metadata": {},
   "outputs": [
    {
     "data": {
      "text/html": [
       "<div>\n",
       "<style>\n",
       "    .dataframe thead tr:only-child th {\n",
       "        text-align: right;\n",
       "    }\n",
       "\n",
       "    .dataframe thead th {\n",
       "        text-align: left;\n",
       "    }\n",
       "\n",
       "    .dataframe tbody tr th {\n",
       "        vertical-align: top;\n",
       "    }\n",
       "</style>\n",
       "<table border=\"1\" class=\"dataframe\">\n",
       "  <thead>\n",
       "    <tr style=\"text-align: right;\">\n",
       "      <th></th>\n",
       "      <th>RECORD_ID</th>\n",
       "      <th>PATIENT_NUM</th>\n",
       "      <th>CONCEPT_CD</th>\n",
       "      <th>START_DATE</th>\n",
       "      <th>VALTYPE_CD</th>\n",
       "      <th>TVAL_CHAR</th>\n",
       "      <th>NVAL_NUM</th>\n",
       "      <th>CONCEPT_PATH</th>\n",
       "      <th>NAME_CHAR</th>\n",
       "      <th>SEX_CD</th>\n",
       "      <th>LANGUAGE_CD</th>\n",
       "      <th>RACE_CD</th>\n",
       "      <th>ZIP_CD</th>\n",
       "    </tr>\n",
       "  </thead>\n",
       "  <tbody>\n",
       "    <tr>\n",
       "      <th>1490</th>\n",
       "      <td>214808</td>\n",
       "      <td>1241639</td>\n",
       "      <td>RXCUI:688242</td>\n",
       "      <td>3/7/2004 13:29</td>\n",
       "      <td>NaN</td>\n",
       "      <td>Two grams intravaginally at bedtime for 6 weeks</td>\n",
       "      <td>NaN</td>\n",
       "      <td>\\Drug Products by VA Class\\GU000 GENITOURINARY...</td>\n",
       "      <td>Estrogens, Conjugated (USP) 0.625 MG/ML Vagina...</td>\n",
       "      <td>F</td>\n",
       "      <td>DEM|LANGUAGE:engl</td>\n",
       "      <td>DEM|RACE:black</td>\n",
       "      <td>2136</td>\n",
       "    </tr>\n",
       "    <tr>\n",
       "      <th>1491</th>\n",
       "      <td>124749</td>\n",
       "      <td>1241639</td>\n",
       "      <td>HDID:2578</td>\n",
       "      <td>6/5/2004 17:57</td>\n",
       "      <td>T</td>\n",
       "      <td>negative</td>\n",
       "      <td>NaN</td>\n",
       "      <td>\\HDID2\\Basic\\Dx\\Lab\\Chemistry\\human chorionic ...</td>\n",
       "      <td>human chorionic gonadotropin, urine, qualitati...</td>\n",
       "      <td>F</td>\n",
       "      <td>DEM|LANGUAGE:engl</td>\n",
       "      <td>DEM|RACE:black</td>\n",
       "      <td>2136</td>\n",
       "    </tr>\n",
       "  </tbody>\n",
       "</table>\n",
       "</div>"
      ],
      "text/plain": [
       "      RECORD_ID  PATIENT_NUM    CONCEPT_CD      START_DATE VALTYPE_CD  \\\n",
       "1490     214808      1241639  RXCUI:688242  3/7/2004 13:29        NaN   \n",
       "1491     124749      1241639     HDID:2578  6/5/2004 17:57          T   \n",
       "\n",
       "                                            TVAL_CHAR  NVAL_NUM  \\\n",
       "1490  Two grams intravaginally at bedtime for 6 weeks       NaN   \n",
       "1491                                         negative       NaN   \n",
       "\n",
       "                                           CONCEPT_PATH  \\\n",
       "1490  \\Drug Products by VA Class\\GU000 GENITOURINARY...   \n",
       "1491  \\HDID2\\Basic\\Dx\\Lab\\Chemistry\\human chorionic ...   \n",
       "\n",
       "                                              NAME_CHAR SEX_CD  \\\n",
       "1490  Estrogens, Conjugated (USP) 0.625 MG/ML Vagina...      F   \n",
       "1491  human chorionic gonadotropin, urine, qualitati...      F   \n",
       "\n",
       "            LANGUAGE_CD         RACE_CD  ZIP_CD  \n",
       "1490  DEM|LANGUAGE:engl  DEM|RACE:black    2136  \n",
       "1491  DEM|LANGUAGE:engl  DEM|RACE:black    2136  "
      ]
     },
     "execution_count": 88,
     "metadata": {},
     "output_type": "execute_result"
    }
   ],
   "source": [
    "df3[df3.PATIENT_NUM==1241639]"
   ]
  }
 ],
 "metadata": {
  "kernelspec": {
   "display_name": "Python 2",
   "language": "python",
   "name": "python2"
  },
  "language_info": {
   "codemirror_mode": {
    "name": "ipython",
    "version": 2
   },
   "file_extension": ".py",
   "mimetype": "text/x-python",
   "name": "python",
   "nbconvert_exporter": "python",
   "pygments_lexer": "ipython2",
   "version": "2.7.13"
  }
 },
 "nbformat": 4,
 "nbformat_minor": 2
}
